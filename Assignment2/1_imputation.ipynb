{
 "cells": [
  {
   "cell_type": "code",
   "execution_count": 1,
   "metadata": {
    "collapsed": true,
    "pycharm": {
     "is_executing": false
    }
   },
   "outputs": [
    {
     "name": "stderr",
     "text": [
      "Using TensorFlow backend.\n"
     ],
     "output_type": "stream"
    }
   ],
   "source": [
    "import pandas as pd\n",
    "from sklearn.ensemble import RandomForestRegressor\n",
    "from sklearn.metrics import accuracy_score,f1_score\n",
    "from pandas.api.types import is_string_dtype,is_numeric_dtype\n",
    "import seaborn as sns\n",
    "import matplotlib.pyplot as plt\n",
    "from sklearn.model_selection import train_test_split\n",
    "import numpy as np\n",
    "import fancyimpute\n",
    "%matplotlib inline\n",
    "\n"
   ]
  },
  {
   "cell_type": "code",
   "execution_count": 2,
   "outputs": [
    {
     "data": {
      "text/plain": "'D:\\\\Python\\\\DataScience\\\\DataScience6105\\\\Assignment2'"
     },
     "metadata": {},
     "output_type": "execute_result",
     "execution_count": 2
    }
   ],
   "source": [
    "# 1.reading in data\n",
    "%pwd\n"
   ],
   "metadata": {
    "collapsed": false,
    "pycharm": {
     "name": "#%%\n",
     "is_executing": false
    }
   }
  },
  {
   "cell_type": "code",
   "execution_count": 2,
   "outputs": [],
   "source": [
    "# set path\n",
    "path = 'D:\\\\Python\\\\DataScience\\\\DataScience6105\\\\Assignment2'\n"
   ],
   "metadata": {
    "collapsed": false,
    "pycharm": {
     "name": "#%%\n",
     "is_executing": false
    }
   }
  },
  {
   "cell_type": "code",
   "execution_count": 3,
   "outputs": [],
   "source": [
    "df_raw = pd.read_csv(f'{path}/train.csv',parse_dates = [\"activation_date\"])\n"
   ],
   "metadata": {
    "collapsed": false,
    "pycharm": {
     "name": "#%%\n",
     "is_executing": false
    }
   }
  },
  {
   "cell_type": "code",
   "execution_count": 4,
   "outputs": [
    {
     "data": {
      "text/plain": "             item_id       user_id             region         city  \\\n751711  3b896605f03c  9457abfa0ebf  Самарская область       Самара   \n889369  c81c34d3aac5  0b161da2b144  Иркутская область       Братск   \n175952  a8ab6225dd06  93d527a1ca66      Пермский край  Краснокамск   \n\n       parent_category_name              category_name         param_1  \\\n751711          Личные вещи     Детская одежда и обувь   Для мальчиков   \n889369  Бытовая электроника                   Телефоны      Аксессуары   \n175952          Личные вещи  Одежда, обувь, аксессуары  Женская одежда   \n\n               param_2              param_3                   title  \\\n751711  Верхняя одежда  86-92 см (1-2 года)       Зимний комбенизон   \n889369  Чехлы и плёнки                  NaN     Чехол для айфона 6s   \n175952  Верхняя одежда            44–46 (M)  Продам кожанную куртку   \n\n                         description   price  item_seq_number activation_date  \\\n751711  Зимний комбенизон для малыша   500.0               12      2017-03-15   \n889369               Твёрдый пластик   100.0                5      2017-03-15   \n175952                           NaN  1500.0               32      2017-03-15   \n\n       user_type                                              image  \\\n751711   Private  a805aa774699aca42e538e1626ef70f806dd38d1bf85eb...   \n889369   Private  76c39c52a894c51499da3ee2ddecd98da533ccbdae5096...   \n175952   Private  d7cb3c4a84ce9f95958f2995474140b28ae7ad1cd0d6de...   \n\n        image_top_1  deal_probability  \n751711       1008.0               0.0  \n889369       2909.0               0.0  \n175952        527.0               0.0  ",
      "text/html": "<div>\n<style scoped>\n    .dataframe tbody tr th:only-of-type {\n        vertical-align: middle;\n    }\n\n    .dataframe tbody tr th {\n        vertical-align: top;\n    }\n\n    .dataframe thead th {\n        text-align: right;\n    }\n</style>\n<table border=\"1\" class=\"dataframe\">\n  <thead>\n    <tr style=\"text-align: right;\">\n      <th></th>\n      <th>item_id</th>\n      <th>user_id</th>\n      <th>region</th>\n      <th>city</th>\n      <th>parent_category_name</th>\n      <th>category_name</th>\n      <th>param_1</th>\n      <th>param_2</th>\n      <th>param_3</th>\n      <th>title</th>\n      <th>description</th>\n      <th>price</th>\n      <th>item_seq_number</th>\n      <th>activation_date</th>\n      <th>user_type</th>\n      <th>image</th>\n      <th>image_top_1</th>\n      <th>deal_probability</th>\n    </tr>\n  </thead>\n  <tbody>\n    <tr>\n      <th>751711</th>\n      <td>3b896605f03c</td>\n      <td>9457abfa0ebf</td>\n      <td>Самарская область</td>\n      <td>Самара</td>\n      <td>Личные вещи</td>\n      <td>Детская одежда и обувь</td>\n      <td>Для мальчиков</td>\n      <td>Верхняя одежда</td>\n      <td>86-92 см (1-2 года)</td>\n      <td>Зимний комбенизон</td>\n      <td>Зимний комбенизон для малыша</td>\n      <td>500.0</td>\n      <td>12</td>\n      <td>2017-03-15</td>\n      <td>Private</td>\n      <td>a805aa774699aca42e538e1626ef70f806dd38d1bf85eb...</td>\n      <td>1008.0</td>\n      <td>0.0</td>\n    </tr>\n    <tr>\n      <th>889369</th>\n      <td>c81c34d3aac5</td>\n      <td>0b161da2b144</td>\n      <td>Иркутская область</td>\n      <td>Братск</td>\n      <td>Бытовая электроника</td>\n      <td>Телефоны</td>\n      <td>Аксессуары</td>\n      <td>Чехлы и плёнки</td>\n      <td>NaN</td>\n      <td>Чехол для айфона 6s</td>\n      <td>Твёрдый пластик</td>\n      <td>100.0</td>\n      <td>5</td>\n      <td>2017-03-15</td>\n      <td>Private</td>\n      <td>76c39c52a894c51499da3ee2ddecd98da533ccbdae5096...</td>\n      <td>2909.0</td>\n      <td>0.0</td>\n    </tr>\n    <tr>\n      <th>175952</th>\n      <td>a8ab6225dd06</td>\n      <td>93d527a1ca66</td>\n      <td>Пермский край</td>\n      <td>Краснокамск</td>\n      <td>Личные вещи</td>\n      <td>Одежда, обувь, аксессуары</td>\n      <td>Женская одежда</td>\n      <td>Верхняя одежда</td>\n      <td>44–46 (M)</td>\n      <td>Продам кожанную куртку</td>\n      <td>NaN</td>\n      <td>1500.0</td>\n      <td>32</td>\n      <td>2017-03-15</td>\n      <td>Private</td>\n      <td>d7cb3c4a84ce9f95958f2995474140b28ae7ad1cd0d6de...</td>\n      <td>527.0</td>\n      <td>0.0</td>\n    </tr>\n  </tbody>\n</table>\n</div>"
     },
     "metadata": {},
     "output_type": "execute_result",
     "execution_count": 4
    }
   ],
   "source": [
    "# sort the values by acitivation_date column\n",
    "df_raw.sort_values(by = \"activation_date\",inplace = True)\n",
    "df_raw.head(3)\n"
   ],
   "metadata": {
    "collapsed": false,
    "pycharm": {
     "name": "#%%\n",
     "is_executing": false
    }
   }
  },
  {
   "cell_type": "code",
   "execution_count": 5,
   "outputs": [],
   "source": [
    "# 2. Define functions for this machine learning exerise\n",
    "'''Define functions to preprocess data - split dates, categorize, impute'''\n",
    "\n",
    "def split_dates(df,date_column):\n",
    "    date_df = pd.DataFrame({\"year\": df[date_column].dt.year,\n",
    "              \"month\": df[date_column].dt.month,\n",
    "              \"day\": df[date_column].dt.day,\n",
    "              \"dayofyear\": df[date_column].dt.dayofyear,\n",
    "              \"week\": df[date_column].dt.week,\n",
    "              \"weekofyear\": df[date_column].dt.weekofyear,\n",
    "              \"dayofweek\": df[date_column].dt.dayofweek,\n",
    "              \"weekday\": df[date_column].dt.weekday,\n",
    "              \"quarter\": df[date_column].dt.quarter,\n",
    "             })\n",
    "    df = df.drop(date_column,axis = 1)\n",
    "    df = pd.concat([df,date_df],axis = 1)\n",
    "    return df\n",
    "\n",
    "def str_to_cat(my_df):\n",
    "    for p,q in my_df.items(): #my_df.items() is a generator in Python\n",
    "        if is_string_dtype(q): \n",
    "            my_df[p] = q.astype('category').cat.as_ordered()\n",
    "    return my_df\n",
    "def mydf_to_nums(my_df, feature, null_status):\n",
    "    if not is_numeric_dtype(feature):\n",
    "        my_df[null_status] = feature.cat.codes + 1\n",
    "        \n",
    "def mydf_imputer(my_df, feature, null_status, null_table):\n",
    "    if is_numeric_dtype(feature):\n",
    "        if pd.isnull(feature).sum() or (null_status in null_table):\n",
    "            my_df[null_status+'_na'] = pd.isnull(feature)\n",
    "            filler = null_table[null_status] if null_status in null_table else feature.median()\n",
    "            my_df[null_status] = feature.fillna(filler)\n",
    "            null_table[null_status] = filler\n",
    "    return null_table   \n",
    "\n",
    "def mydf_preprocessor(my_df, null_table):\n",
    "    '''null_table  = your table or None'''\n",
    "    \n",
    "    if null_table is None: \n",
    "        null_table = dict()\n",
    "    for p,q in my_df.items(): \n",
    "        null_table = mydf_imputer(my_df, q, p, null_table)\n",
    "    for p,q in my_df.items(): \n",
    "        mydf_to_nums(my_df, q, p)\n",
    "    my_df = pd.get_dummies(my_df, dummy_na = True)\n",
    "    res = [my_df, null_table]\n",
    "    return res\n",
    "\n"
   ],
   "metadata": {
    "collapsed": false,
    "pycharm": {
     "name": "#%%\n",
     "is_executing": false
    }
   }
  },
  {
   "cell_type": "code",
   "execution_count": 15,
   "outputs": [
    {
     "data": {
      "text/plain": "             item_id       user_id             region         city  \\\n751711  3b896605f03c  9457abfa0ebf  Самарская область       Самара   \n889369  c81c34d3aac5  0b161da2b144  Иркутская область       Братск   \n175952  a8ab6225dd06  93d527a1ca66      Пермский край  Краснокамск   \n\n       parent_category_name              category_name         param_1  \\\n751711          Личные вещи     Детская одежда и обувь   Для мальчиков   \n889369  Бытовая электроника                   Телефоны      Аксессуары   \n175952          Личные вещи  Одежда, обувь, аксессуары  Женская одежда   \n\n               param_2              param_3                   title  ...  \\\n751711  Верхняя одежда  86-92 см (1-2 года)       Зимний комбенизон  ...   \n889369  Чехлы и плёнки                  NaN     Чехол для айфона 6s  ...   \n175952  Верхняя одежда            44–46 (M)  Продам кожанную куртку  ...   \n\n       deal_probability  year  month day dayofyear  week  weekofyear  \\\n751711              0.0  2017      3  15        74    11          11   \n889369              0.0  2017      3  15        74    11          11   \n175952              0.0  2017      3  15        74    11          11   \n\n        dayofweek  weekday  quarter  \n751711          2        2        1  \n889369          2        2        1  \n175952          2        2        1  \n\n[3 rows x 26 columns]",
      "text/html": "<div>\n<style scoped>\n    .dataframe tbody tr th:only-of-type {\n        vertical-align: middle;\n    }\n\n    .dataframe tbody tr th {\n        vertical-align: top;\n    }\n\n    .dataframe thead th {\n        text-align: right;\n    }\n</style>\n<table border=\"1\" class=\"dataframe\">\n  <thead>\n    <tr style=\"text-align: right;\">\n      <th></th>\n      <th>item_id</th>\n      <th>user_id</th>\n      <th>region</th>\n      <th>city</th>\n      <th>parent_category_name</th>\n      <th>category_name</th>\n      <th>param_1</th>\n      <th>param_2</th>\n      <th>param_3</th>\n      <th>title</th>\n      <th>...</th>\n      <th>deal_probability</th>\n      <th>year</th>\n      <th>month</th>\n      <th>day</th>\n      <th>dayofyear</th>\n      <th>week</th>\n      <th>weekofyear</th>\n      <th>dayofweek</th>\n      <th>weekday</th>\n      <th>quarter</th>\n    </tr>\n  </thead>\n  <tbody>\n    <tr>\n      <th>751711</th>\n      <td>3b896605f03c</td>\n      <td>9457abfa0ebf</td>\n      <td>Самарская область</td>\n      <td>Самара</td>\n      <td>Личные вещи</td>\n      <td>Детская одежда и обувь</td>\n      <td>Для мальчиков</td>\n      <td>Верхняя одежда</td>\n      <td>86-92 см (1-2 года)</td>\n      <td>Зимний комбенизон</td>\n      <td>...</td>\n      <td>0.0</td>\n      <td>2017</td>\n      <td>3</td>\n      <td>15</td>\n      <td>74</td>\n      <td>11</td>\n      <td>11</td>\n      <td>2</td>\n      <td>2</td>\n      <td>1</td>\n    </tr>\n    <tr>\n      <th>889369</th>\n      <td>c81c34d3aac5</td>\n      <td>0b161da2b144</td>\n      <td>Иркутская область</td>\n      <td>Братск</td>\n      <td>Бытовая электроника</td>\n      <td>Телефоны</td>\n      <td>Аксессуары</td>\n      <td>Чехлы и плёнки</td>\n      <td>NaN</td>\n      <td>Чехол для айфона 6s</td>\n      <td>...</td>\n      <td>0.0</td>\n      <td>2017</td>\n      <td>3</td>\n      <td>15</td>\n      <td>74</td>\n      <td>11</td>\n      <td>11</td>\n      <td>2</td>\n      <td>2</td>\n      <td>1</td>\n    </tr>\n    <tr>\n      <th>175952</th>\n      <td>a8ab6225dd06</td>\n      <td>93d527a1ca66</td>\n      <td>Пермский край</td>\n      <td>Краснокамск</td>\n      <td>Личные вещи</td>\n      <td>Одежда, обувь, аксессуары</td>\n      <td>Женская одежда</td>\n      <td>Верхняя одежда</td>\n      <td>44–46 (M)</td>\n      <td>Продам кожанную куртку</td>\n      <td>...</td>\n      <td>0.0</td>\n      <td>2017</td>\n      <td>3</td>\n      <td>15</td>\n      <td>74</td>\n      <td>11</td>\n      <td>11</td>\n      <td>2</td>\n      <td>2</td>\n      <td>1</td>\n    </tr>\n  </tbody>\n</table>\n<p>3 rows × 26 columns</p>\n</div>"
     },
     "metadata": {},
     "output_type": "execute_result",
     "execution_count": 15
    }
   ],
   "source": [
    "# 3. Preprocess train data using the defined functions\n",
    "'''\n",
    "preprocess the data\n",
    "''' \n",
    "df_raw_1 = split_dates(df_raw,\"activation_date\")\n",
    "df_raw_1.head(3)\n"
   ],
   "metadata": {
    "collapsed": false,
    "pycharm": {
     "name": "#%%\n",
     "is_executing": false
    }
   }
  },
  {
   "cell_type": "code",
   "execution_count": 16,
   "outputs": [
    {
     "data": {
      "text/plain": "             item_id       user_id             region         city  \\\n751711  3b896605f03c  9457abfa0ebf  Самарская область       Самара   \n889369  c81c34d3aac5  0b161da2b144  Иркутская область       Братск   \n175952  a8ab6225dd06  93d527a1ca66      Пермский край  Краснокамск   \n\n       parent_category_name              category_name         param_1  \\\n751711          Личные вещи     Детская одежда и обувь   Для мальчиков   \n889369  Бытовая электроника                   Телефоны      Аксессуары   \n175952          Личные вещи  Одежда, обувь, аксессуары  Женская одежда   \n\n               param_2              param_3                   title  ...  \\\n751711  Верхняя одежда  86-92 см (1-2 года)       Зимний комбенизон  ...   \n889369  Чехлы и плёнки                  NaN     Чехол для айфона 6s  ...   \n175952  Верхняя одежда            44–46 (M)  Продам кожанную куртку  ...   \n\n       deal_probability  year  month day dayofyear  week  weekofyear  \\\n751711              0.0  2017      3  15        74    11          11   \n889369              0.0  2017      3  15        74    11          11   \n175952              0.0  2017      3  15        74    11          11   \n\n        dayofweek  weekday  quarter  \n751711          2        2        1  \n889369          2        2        1  \n175952          2        2        1  \n\n[3 rows x 26 columns]",
      "text/html": "<div>\n<style scoped>\n    .dataframe tbody tr th:only-of-type {\n        vertical-align: middle;\n    }\n\n    .dataframe tbody tr th {\n        vertical-align: top;\n    }\n\n    .dataframe thead th {\n        text-align: right;\n    }\n</style>\n<table border=\"1\" class=\"dataframe\">\n  <thead>\n    <tr style=\"text-align: right;\">\n      <th></th>\n      <th>item_id</th>\n      <th>user_id</th>\n      <th>region</th>\n      <th>city</th>\n      <th>parent_category_name</th>\n      <th>category_name</th>\n      <th>param_1</th>\n      <th>param_2</th>\n      <th>param_3</th>\n      <th>title</th>\n      <th>...</th>\n      <th>deal_probability</th>\n      <th>year</th>\n      <th>month</th>\n      <th>day</th>\n      <th>dayofyear</th>\n      <th>week</th>\n      <th>weekofyear</th>\n      <th>dayofweek</th>\n      <th>weekday</th>\n      <th>quarter</th>\n    </tr>\n  </thead>\n  <tbody>\n    <tr>\n      <th>751711</th>\n      <td>3b896605f03c</td>\n      <td>9457abfa0ebf</td>\n      <td>Самарская область</td>\n      <td>Самара</td>\n      <td>Личные вещи</td>\n      <td>Детская одежда и обувь</td>\n      <td>Для мальчиков</td>\n      <td>Верхняя одежда</td>\n      <td>86-92 см (1-2 года)</td>\n      <td>Зимний комбенизон</td>\n      <td>...</td>\n      <td>0.0</td>\n      <td>2017</td>\n      <td>3</td>\n      <td>15</td>\n      <td>74</td>\n      <td>11</td>\n      <td>11</td>\n      <td>2</td>\n      <td>2</td>\n      <td>1</td>\n    </tr>\n    <tr>\n      <th>889369</th>\n      <td>c81c34d3aac5</td>\n      <td>0b161da2b144</td>\n      <td>Иркутская область</td>\n      <td>Братск</td>\n      <td>Бытовая электроника</td>\n      <td>Телефоны</td>\n      <td>Аксессуары</td>\n      <td>Чехлы и плёнки</td>\n      <td>NaN</td>\n      <td>Чехол для айфона 6s</td>\n      <td>...</td>\n      <td>0.0</td>\n      <td>2017</td>\n      <td>3</td>\n      <td>15</td>\n      <td>74</td>\n      <td>11</td>\n      <td>11</td>\n      <td>2</td>\n      <td>2</td>\n      <td>1</td>\n    </tr>\n    <tr>\n      <th>175952</th>\n      <td>a8ab6225dd06</td>\n      <td>93d527a1ca66</td>\n      <td>Пермский край</td>\n      <td>Краснокамск</td>\n      <td>Личные вещи</td>\n      <td>Одежда, обувь, аксессуары</td>\n      <td>Женская одежда</td>\n      <td>Верхняя одежда</td>\n      <td>44–46 (M)</td>\n      <td>Продам кожанную куртку</td>\n      <td>...</td>\n      <td>0.0</td>\n      <td>2017</td>\n      <td>3</td>\n      <td>15</td>\n      <td>74</td>\n      <td>11</td>\n      <td>11</td>\n      <td>2</td>\n      <td>2</td>\n      <td>1</td>\n    </tr>\n  </tbody>\n</table>\n<p>3 rows × 26 columns</p>\n</div>"
     },
     "metadata": {},
     "output_type": "execute_result",
     "execution_count": 16
    }
   ],
   "source": [
    "df_raw_2 = str_to_cat(df_raw_1)\n",
    "df_raw_2.head(3)\n"
   ],
   "metadata": {
    "collapsed": false,
    "pycharm": {
     "name": "#%%\n",
     "is_executing": false
    }
   }
  },
  {
   "cell_type": "code",
   "execution_count": 8,
   "outputs": [
    {
     "data": {
      "text/plain": "        item_id  user_id  region  city  parent_category_name  category_name  \\\n751711   348938   447528      18  1301                     5             11   \n889369  1175228    33441       7   232                     1             42   \n175952   991010   446030      16   729                     5             30   \n\n        param_1  param_2  param_3   title  ...  month  day  dayofyear  week  \\\n751711      110      122      186  261804  ...      3   15         74    11   \n889369       41      262        0  754605  ...      3   15         74    11   \n175952      126      122      144  562387  ...      3   15         74    11   \n\n        weekofyear  dayofweek  weekday  quarter  price_na  image_top_1_na  \n751711          11          2        2        1     False           False  \n889369          11          2        2        1     False           False  \n175952          11          2        2        1     False           False  \n\n[3 rows x 28 columns]",
      "text/html": "<div>\n<style scoped>\n    .dataframe tbody tr th:only-of-type {\n        vertical-align: middle;\n    }\n\n    .dataframe tbody tr th {\n        vertical-align: top;\n    }\n\n    .dataframe thead th {\n        text-align: right;\n    }\n</style>\n<table border=\"1\" class=\"dataframe\">\n  <thead>\n    <tr style=\"text-align: right;\">\n      <th></th>\n      <th>item_id</th>\n      <th>user_id</th>\n      <th>region</th>\n      <th>city</th>\n      <th>parent_category_name</th>\n      <th>category_name</th>\n      <th>param_1</th>\n      <th>param_2</th>\n      <th>param_3</th>\n      <th>title</th>\n      <th>...</th>\n      <th>month</th>\n      <th>day</th>\n      <th>dayofyear</th>\n      <th>week</th>\n      <th>weekofyear</th>\n      <th>dayofweek</th>\n      <th>weekday</th>\n      <th>quarter</th>\n      <th>price_na</th>\n      <th>image_top_1_na</th>\n    </tr>\n  </thead>\n  <tbody>\n    <tr>\n      <th>751711</th>\n      <td>348938</td>\n      <td>447528</td>\n      <td>18</td>\n      <td>1301</td>\n      <td>5</td>\n      <td>11</td>\n      <td>110</td>\n      <td>122</td>\n      <td>186</td>\n      <td>261804</td>\n      <td>...</td>\n      <td>3</td>\n      <td>15</td>\n      <td>74</td>\n      <td>11</td>\n      <td>11</td>\n      <td>2</td>\n      <td>2</td>\n      <td>1</td>\n      <td>False</td>\n      <td>False</td>\n    </tr>\n    <tr>\n      <th>889369</th>\n      <td>1175228</td>\n      <td>33441</td>\n      <td>7</td>\n      <td>232</td>\n      <td>1</td>\n      <td>42</td>\n      <td>41</td>\n      <td>262</td>\n      <td>0</td>\n      <td>754605</td>\n      <td>...</td>\n      <td>3</td>\n      <td>15</td>\n      <td>74</td>\n      <td>11</td>\n      <td>11</td>\n      <td>2</td>\n      <td>2</td>\n      <td>1</td>\n      <td>False</td>\n      <td>False</td>\n    </tr>\n    <tr>\n      <th>175952</th>\n      <td>991010</td>\n      <td>446030</td>\n      <td>16</td>\n      <td>729</td>\n      <td>5</td>\n      <td>30</td>\n      <td>126</td>\n      <td>122</td>\n      <td>144</td>\n      <td>562387</td>\n      <td>...</td>\n      <td>3</td>\n      <td>15</td>\n      <td>74</td>\n      <td>11</td>\n      <td>11</td>\n      <td>2</td>\n      <td>2</td>\n      <td>1</td>\n      <td>False</td>\n      <td>False</td>\n    </tr>\n  </tbody>\n</table>\n<p>3 rows × 28 columns</p>\n</div>"
     },
     "metadata": {},
     "output_type": "execute_result",
     "execution_count": 8
    }
   ],
   "source": [
    "df_raw_3,my_table = mydf_preprocessor(df_raw_2,null_table = None)\n",
    "df_raw_3.head(3)\n"
   ],
   "metadata": {
    "collapsed": false,
    "pycharm": {
     "name": "#%%\n",
     "is_executing": false
    }
   }
  },
  {
   "cell_type": "code",
   "execution_count": 10,
   "outputs": [],
   "source": [
    "'''Define functions to split data, measure accuracy, and r-squared'''\n",
    "def split_df(df,num):\n",
    "    return df[ :num].copy(),df[num: ].copy()\n",
    "\n",
    "def my_rmse(y1,y2):\n",
    "    return np.sqrt(((y1-y2)**2).mean())\n",
    "\n",
    "def rsq_n_rmse(my_model,x_train,y_train,x_val,y_val):\n",
    "    result = [my_model.score(x_train,y_train),my_model.score(x_val,y_val),\n",
    "             my_rmse(my_model.predict(x_train),y_train),my_rmse(my_model.predict(x_val),y_val)]\n",
    "    return \"train rsq,val rsq,train rmse, val rmse\", result\n",
    "\n",
    "# use a subset to tune hyperparamters"
   ],
   "metadata": {
    "collapsed": false,
    "pycharm": {
     "name": "#%%\n",
     "is_executing": false
    }
   }
  },
  {
   "cell_type": "code",
   "execution_count": 11,
   "outputs": [],
   "source": [
    "x = df_raw_3.drop('deal_probability', axis=1)\n",
    "y = df_raw_3['deal_probability']\n",
    "x_sub,_ = split_df(x,200000)\n",
    "y_sub,_ = split_df(y,200000)\n",
    "x_trn,x_val = split_df(x_sub,150000)\n",
    "y_trn,y_val = split_df(y_sub,150000)\n",
    "\n",
    "# 4. Model building, hyperparameter tuning, and exploratory data analysis (EDA)"
   ],
   "metadata": {
    "collapsed": false,
    "pycharm": {
     "name": "#%%\n",
     "is_executing": false
    }
   }
  },
  {
   "cell_type": "code",
   "execution_count": 12,
   "outputs": [
    {
     "data": {
      "text/plain": "('train rsq,val rsq,train rmse, val rmse',\n [0.3427053635079521,\n  0.20310584892504635,\n  0.21036565313971112,\n  0.23242936249000648])"
     },
     "metadata": {},
     "output_type": "execute_result",
     "execution_count": 12
    }
   ],
   "source": [
    "# build the model\n",
    "mod_1 = RandomForestRegressor(n_jobs = -1,oob_score = False,n_estimators = 50, max_depth = 40000,min_samples_leaf = 25)\n",
    "mod_1.fit(x_trn,y_trn)\n",
    "rsq_n_rmse(mod_1,x_trn,y_trn,x_val,y_val)\n"
   ],
   "metadata": {
    "collapsed": false,
    "pycharm": {
     "name": "#%%\n",
     "is_executing": false
    }
   }
  },
  {
   "cell_type": "code",
   "execution_count": 13,
   "outputs": [
    {
     "data": {
      "text/plain": "<matplotlib.axes._subplots.AxesSubplot at 0x28bc37732b0>"
     },
     "metadata": {},
     "output_type": "execute_result",
     "execution_count": 13
    },
    {
     "data": {
      "text/plain": "<Figure size 576x432 with 1 Axes>",
      "image/png": "[encoded data removed]"
     },
     "metadata": {
      "needs_background": "light"
     },
     "output_type": "display_data"
    }
   ],
   "source": [
    "'''Calculate feature importance scores with your model'''\n",
    "\n",
    "feat_imps = pd.DataFrame(mod_1.feature_importances_, index = x_trn.columns,\n",
    "                                    columns=['Importance score']).sort_values('Importance score',ascending=False)\n",
    "feat_imps = feat_imps.reset_index()\n",
    "feat_imps.columns = [\"Feature\",\"Importance Score\"]\n",
    "plt.figure(figsize = (8,6))\n",
    "sns.barplot(x = \"Importance Score\",y = \"Feature\",data = feat_imps,orient = \"h\")\n"
   ],
   "metadata": {
    "collapsed": false,
    "pycharm": {
     "name": "#%%\n",
     "is_executing": false
    }
   }
  },
  {
   "cell_type": "code",
   "execution_count": 17,
   "outputs": [
    {
     "data": {
      "text/plain": "        item_id       user_id                 region         city  \\\n0  6544e41a8817  dbe73ad6e4b5  Волгоградская область    Волгоград   \n1  65b9484d670f  2e11806abe57   Свердловская область  Нижняя Тура   \n2  8bab230b2ecd  0b850bbebb10  Новосибирская область       Бердск   \n\n  parent_category_name           category_name                 param_1  \\\n0          Личные вещи  Детская одежда и обувь           Для мальчиков   \n1        Хобби и отдых              Велосипеды                Дорожные   \n2  Бытовая электроника           Аудио и видео  Телевизоры и проекторы   \n\n  param_2 param_3             title  ... image_top_1  year  month day  \\\n0   Обувь      25   Отдам бесплатно  ...      2020.0  2017      4  18   \n1     NaN     NaN  Продам велосипед  ...         NaN  2017      4  16   \n2     NaN     NaN               BBK  ...      2960.0  2017      4  17   \n\n  dayofyear  week  weekofyear  dayofweek  weekday  quarter  \n0       108    16          16          1        1        2  \n1       106    15          15          6        6        2  \n2       107    16          16          0        0        2  \n\n[3 rows x 25 columns]",
      "text/html": "<div>\n<style scoped>\n    .dataframe tbody tr th:only-of-type {\n        vertical-align: middle;\n    }\n\n    .dataframe tbody tr th {\n        vertical-align: top;\n    }\n\n    .dataframe thead th {\n        text-align: right;\n    }\n</style>\n<table border=\"1\" class=\"dataframe\">\n  <thead>\n    <tr style=\"text-align: right;\">\n      <th></th>\n      <th>item_id</th>\n      <th>user_id</th>\n      <th>region</th>\n      <th>city</th>\n      <th>parent_category_name</th>\n      <th>category_name</th>\n      <th>param_1</th>\n      <th>param_2</th>\n      <th>param_3</th>\n      <th>title</th>\n      <th>...</th>\n      <th>image_top_1</th>\n      <th>year</th>\n      <th>month</th>\n      <th>day</th>\n      <th>dayofyear</th>\n      <th>week</th>\n      <th>weekofyear</th>\n      <th>dayofweek</th>\n      <th>weekday</th>\n      <th>quarter</th>\n    </tr>\n  </thead>\n  <tbody>\n    <tr>\n      <th>0</th>\n      <td>6544e41a8817</td>\n      <td>dbe73ad6e4b5</td>\n      <td>Волгоградская область</td>\n      <td>Волгоград</td>\n      <td>Личные вещи</td>\n      <td>Детская одежда и обувь</td>\n      <td>Для мальчиков</td>\n      <td>Обувь</td>\n      <td>25</td>\n      <td>Отдам бесплатно</td>\n      <td>...</td>\n      <td>2020.0</td>\n      <td>2017</td>\n      <td>4</td>\n      <td>18</td>\n      <td>108</td>\n      <td>16</td>\n      <td>16</td>\n      <td>1</td>\n      <td>1</td>\n      <td>2</td>\n    </tr>\n    <tr>\n      <th>1</th>\n      <td>65b9484d670f</td>\n      <td>2e11806abe57</td>\n      <td>Свердловская область</td>\n      <td>Нижняя Тура</td>\n      <td>Хобби и отдых</td>\n      <td>Велосипеды</td>\n      <td>Дорожные</td>\n      <td>NaN</td>\n      <td>NaN</td>\n      <td>Продам велосипед</td>\n      <td>...</td>\n      <td>NaN</td>\n      <td>2017</td>\n      <td>4</td>\n      <td>16</td>\n      <td>106</td>\n      <td>15</td>\n      <td>15</td>\n      <td>6</td>\n      <td>6</td>\n      <td>2</td>\n    </tr>\n    <tr>\n      <th>2</th>\n      <td>8bab230b2ecd</td>\n      <td>0b850bbebb10</td>\n      <td>Новосибирская область</td>\n      <td>Бердск</td>\n      <td>Бытовая электроника</td>\n      <td>Аудио и видео</td>\n      <td>Телевизоры и проекторы</td>\n      <td>NaN</td>\n      <td>NaN</td>\n      <td>BBK</td>\n      <td>...</td>\n      <td>2960.0</td>\n      <td>2017</td>\n      <td>4</td>\n      <td>17</td>\n      <td>107</td>\n      <td>16</td>\n      <td>16</td>\n      <td>0</td>\n      <td>0</td>\n      <td>2</td>\n    </tr>\n  </tbody>\n</table>\n<p>3 rows × 25 columns</p>\n</div>"
     },
     "metadata": {},
     "output_type": "execute_result",
     "execution_count": 17
    }
   ],
   "source": [
    "# 5. Test out your model\n",
    "# preprocess the test data\n",
    "test_raw = pd.read_csv(f'{path}/test.csv',parse_dates = [\"activation_date\"])\n",
    "test_raw_1 = split_dates(test_raw,\"activation_date\")\n",
    "test_raw_2 = str_to_cat(test_raw_1)\n",
    "test_raw_2.head(3)\n"
   ],
   "metadata": {
    "collapsed": false,
    "pycharm": {
     "name": "#%%\n",
     "is_executing": false
    }
   }
  },
  {
   "cell_type": "code",
   "execution_count": 18,
   "outputs": [
    {
     "name": "stdout",
     "text": [
      "[0.13608164 0.250482   0.14887222 ... 0.05443806 0.28518139 0.09810532]\n"
     ],
     "output_type": "stream"
    }
   ],
   "source": [
    "test_raw_3,my_table_1 = mydf_preprocessor(test_raw_2,null_table = my_table)\n",
    "y_test_pred = mod_1.predict(test_raw_3)\n",
    "print(y_test_pred)\n"
   ],
   "metadata": {
    "collapsed": false,
    "pycharm": {
     "name": "#%%\n",
     "is_executing": false
    }
   }
  },
  {
   "cell_type": "code",
   "execution_count": 9,
   "outputs": [],
   "source": [
    "def mydf_imputer_fancy_inpute_KNN(my_df, feature, null_status, null_table):\n",
    "    if is_numeric_dtype(feature):\n",
    "        if pd.isnull(feature).sum():\n",
    "            my_df[null_status+'_na'] = pd.isnull(feature)\n",
    "\n",
    "def mydf_preprocessor_fancy_inpute_KNN(my_df, null_table):\n",
    "    '''null_table  = your table or None'''\n",
    "    \n",
    "    if null_table is None: \n",
    "        null_table = dict()\n",
    "    for p,q in my_df.items(): \n",
    "        null_table = mydf_imputer_fancy_inpute_KNN(my_df, q, p, null_table)\n",
    "    for p,q in my_df.items(): \n",
    "        mydf_to_nums(my_df, q, p)\n",
    "    my_df = pd.get_dummies(my_df, dummy_na = True)\n",
    "    res = [my_df, null_table]\n",
    "    return res\n"
   ],
   "metadata": {
    "collapsed": false,
    "pycharm": {
     "name": "#%%\n",
     "is_executing": false
    }
   }
  },
  {
   "cell_type": "code",
   "execution_count": 14,
   "outputs": [
    {
     "name": "stdout",
     "text": [
      "<class 'pandas.core.frame.DataFrame'>\nInt64Index: 1503424 entries, 751711 to 187627\nData columns (total 28 columns):\nitem_id                 1503424 non-null int32\nuser_id                 1503424 non-null int32\nregion                  1503424 non-null int8\ncity                    1503424 non-null int16\nparent_category_name    1503424 non-null int8\ncategory_name           1503424 non-null int8\nparam_1                 1503424 non-null int16\nparam_2                 1503424 non-null int16\nparam_3                 1503424 non-null int16\ntitle                   1503424 non-null int32\ndescription             1503424 non-null int32\nprice                   1503424 non-null float64\nitem_seq_number         1503424 non-null int64\nuser_type               1503424 non-null int8\nimage                   1503424 non-null int32\nimage_top_1             1503424 non-null float64\ndeal_probability        1503424 non-null float64\nyear                    1503424 non-null int64\nmonth                   1503424 non-null int64\nday                     1503424 non-null int64\ndayofyear               1503424 non-null int64\nweek                    1503424 non-null int64\nweekofyear              1503424 non-null int64\ndayofweek               1503424 non-null int64\nweekday                 1503424 non-null int64\nquarter                 1503424 non-null int64\nprice_na                1503424 non-null bool\nimage_top_1_na          1503424 non-null bool\ndtypes: bool(2), float64(3), int16(4), int32(5), int64(10), int8(4)\nmemory usage: 209.3 MB\n"
     ],
     "output_type": "stream"
    }
   ],
   "source": [
    "df_raw_2.info()\n"
   ],
   "metadata": {
    "collapsed": false,
    "pycharm": {
     "name": "#%%\n",
     "is_executing": false
    }
   }
  },
  {
   "cell_type": "code",
   "execution_count": 18,
   "outputs": [],
   "source": [
    "df_test_raw = df_raw_2.drop([\"item_id\",\"user_id\",\"region\",\"city\",\"parent_category_name\",\"category_name\",\"param_1\",\"param_2\",\"param_3\",\"title\",\"description\",\"user_type\",\"image\",\"deal_probability\",\"year\",\"month\",\"day\",\"item_seq_number\",\"dayofyear\",\"week\",\"weekofyear\",\"dayofweek\",\"weekday\",\"quarter\",\"price\"],axis=1)\n",
    "df_test_Raw = df_raw_2.drop([\"item_id\",\"user_id\",\"region\",\"city\",\"parent_category_name\",\"category_name\",\"param_1\",\"param_2\",\"param_3\",\"title\",\"description\",\"user_type\",\"image\",\"deal_probability\",\"year\",\"month\",\"day\",\"item_seq_number\",\"dayofyear\",\"week\",\"weekofyear\",\"dayofweek\",\"weekday\",\"quarter\",\"image_top_1\"],axis=1)\n"
   ],
   "metadata": {
    "collapsed": false,
    "pycharm": {
     "name": "#%%\n",
     "is_executing": false
    }
   }
  },
  {
   "cell_type": "code",
   "execution_count": 12,
   "outputs": [
    {
     "name": "stdout",
     "text": [
      "Imputing row 1/5000 with 0 missing, elapsed time: 3.170\nImputing row 101/5000 with 0 missing, elapsed time: 3.171\nImputing row 201/5000 with 0 missing, elapsed time: 3.171\nImputing row 301/5000 with 0 missing, elapsed time: 3.171\nImputing row 401/5000 with 0 missing, elapsed time: 3.172\nImputing row 501/5000 with 0 missing, elapsed time: 3.172\nImputing row 601/5000 with 0 missing, elapsed time: 3.172\nImputing row 701/5000 with 0 missing, elapsed time: 3.173\nImputing row 801/5000 with 0 missing, elapsed time: 3.173\nImputing row 901/5000 with 0 missing, elapsed time: 3.173\nImputing row 1001/5000 with 0 missing, elapsed time: 3.174\nImputing row 1101/5000 with 1 missing, elapsed time: 3.174\nImputing row 1201/5000 with 0 missing, elapsed time: 3.174\nImputing row 1301/5000 with 0 missing, elapsed time: 3.175\nImputing row 1401/5000 with 0 missing, elapsed time: 3.175\nImputing row 1501/5000 with 0 missing, elapsed time: 3.175\nImputing row 1601/5000 with 1 missing, elapsed time: 3.176\nImputing row 1701/5000 with 0 missing, elapsed time: 3.176\nImputing row 1801/5000 with 0 missing, elapsed time: 3.176\nImputing row 1901/5000 with 0 missing, elapsed time: 3.177\nImputing row 2001/5000 with 0 missing, elapsed time: 3.177\nImputing row 2101/5000 with 0 missing, elapsed time: 3.177\nImputing row 2201/5000 with 0 missing, elapsed time: 3.178\nImputing row 2301/5000 with 0 missing, elapsed time: 3.178\nImputing row 2401/5000 with 0 missing, elapsed time: 3.179\nImputing row 2501/5000 with 0 missing, elapsed time: 3.179\nImputing row 2601/5000 with 1 missing, elapsed time: 3.179\nImputing row 2701/5000 with 0 missing, elapsed time: 3.180\nImputing row 2801/5000 with 0 missing, elapsed time: 3.180\nImputing row 2901/5000 with 1 missing, elapsed time: 3.181\nImputing row 3001/5000 with 0 missing, elapsed time: 3.181\nImputing row 3101/5000 with 0 missing, elapsed time: 3.181\nImputing row 3201/5000 with 0 missing, elapsed time: 3.182\nImputing row 3301/5000 with 0 missing, elapsed time: 3.182\nImputing row 3401/5000 with 0 missing, elapsed time: 3.182\nImputing row 3501/5000 with 0 missing, elapsed time: 3.183\nImputing row 3601/5000 with 0 missing, elapsed time: 3.183\nImputing row 3701/5000 with 0 missing, elapsed time: 3.183\nImputing row 3801/5000 with 0 missing, elapsed time: 3.184\nImputing row 3901/5000 with 0 missing, elapsed time: 3.184\nImputing row 4001/5000 with 0 missing, elapsed time: 3.184\nImputing row 4101/5000 with 0 missing, elapsed time: 3.185\nImputing row 4201/5000 with 0 missing, elapsed time: 3.185\nImputing row 4301/5000 with 0 missing, elapsed time: 3.186\nImputing row 4401/5000 with 0 missing, elapsed time: 3.186\nImputing row 4501/5000 with 0 missing, elapsed time: 3.186\nImputing row 4601/5000 with 0 missing, elapsed time: 3.187\nImputing row 4701/5000 with 0 missing, elapsed time: 3.187\nImputing row 4801/5000 with 0 missing, elapsed time: 3.187\nImputing row 4901/5000 with 0 missing, elapsed time: 3.188\n[KNN] Warning: 392/5000 still missing after imputation, replacing with 0\n"
     ],
     "output_type": "stream"
    }
   ],
   "source": [
    "'''\n",
    "using the fancyimpute to impute the data\n",
    "'''\n",
    "# the missing imputation is filled with 0\n",
    "df_test_raw_1 = df_test_raw[:5000]\n",
    "df_test = fancyimpute.KNN(k=3).fit_transform(df_test_raw_1)\n"
   ],
   "metadata": {
    "collapsed": false,
    "pycharm": {
     "name": "#%%\n",
     "is_executing": false
    }
   }
  },
  {
   "cell_type": "code",
   "execution_count": 19,
   "outputs": [
    {
     "name": "stdout",
     "text": [
      "Imputing row 1/5000 with 0 missing, elapsed time: 3.200\nImputing row 101/5000 with 0 missing, elapsed time: 3.201\nImputing row 201/5000 with 0 missing, elapsed time: 3.202\nImputing row 301/5000 with 0 missing, elapsed time: 3.203\nImputing row 401/5000 with 0 missing, elapsed time: 3.203\nImputing row 501/5000 with 0 missing, elapsed time: 3.204\nImputing row 601/5000 with 1 missing, elapsed time: 3.205\nImputing row 701/5000 with 0 missing, elapsed time: 3.206\nImputing row 801/5000 with 0 missing, elapsed time: 3.206\nImputing row 901/5000 with 0 missing, elapsed time: 3.207\nImputing row 1001/5000 with 0 missing, elapsed time: 3.208\nImputing row 1101/5000 with 0 missing, elapsed time: 3.208\nImputing row 1201/5000 with 0 missing, elapsed time: 3.209\nImputing row 1301/5000 with 0 missing, elapsed time: 3.209\nImputing row 1401/5000 with 0 missing, elapsed time: 3.210\nImputing row 1501/5000 with 0 missing, elapsed time: 3.210\nImputing row 1601/5000 with 1 missing, elapsed time: 3.211\nImputing row 1701/5000 with 0 missing, elapsed time: 3.211\nImputing row 1801/5000 with 0 missing, elapsed time: 3.212\nImputing row 1901/5000 with 0 missing, elapsed time: 3.212\nImputing row 2001/5000 with 0 missing, elapsed time: 3.212\nImputing row 2101/5000 with 0 missing, elapsed time: 3.214\nImputing row 2201/5000 with 0 missing, elapsed time: 3.214\nImputing row 2301/5000 with 0 missing, elapsed time: 3.215\nImputing row 2401/5000 with 0 missing, elapsed time: 3.215\nImputing row 2501/5000 with 0 missing, elapsed time: 3.216\nImputing row 2601/5000 with 0 missing, elapsed time: 3.216\nImputing row 2701/5000 with 0 missing, elapsed time: 3.217\nImputing row 2801/5000 with 0 missing, elapsed time: 3.217\nImputing row 2901/5000 with 0 missing, elapsed time: 3.217\nImputing row 3001/5000 with 0 missing, elapsed time: 3.218\nImputing row 3101/5000 with 0 missing, elapsed time: 3.218\nImputing row 3201/5000 with 0 missing, elapsed time: 3.219\nImputing row 3301/5000 with 0 missing, elapsed time: 3.219\nImputing row 3401/5000 with 0 missing, elapsed time: 3.220\nImputing row 3501/5000 with 0 missing, elapsed time: 3.220\nImputing row 3601/5000 with 0 missing, elapsed time: 3.220\nImputing row 3701/5000 with 0 missing, elapsed time: 3.221\nImputing row 3801/5000 with 0 missing, elapsed time: 3.221\nImputing row 3901/5000 with 0 missing, elapsed time: 3.222\nImputing row 4001/5000 with 0 missing, elapsed time: 3.222\nImputing row 4101/5000 with 0 missing, elapsed time: 3.222\nImputing row 4201/5000 with 1 missing, elapsed time: 3.223\nImputing row 4301/5000 with 0 missing, elapsed time: 3.223\nImputing row 4401/5000 with 0 missing, elapsed time: 3.224\nImputing row 4501/5000 with 0 missing, elapsed time: 3.224\nImputing row 4601/5000 with 0 missing, elapsed time: 3.225\nImputing row 4701/5000 with 0 missing, elapsed time: 3.225\nImputing row 4801/5000 with 0 missing, elapsed time: 3.225\nImputing row 4901/5000 with 0 missing, elapsed time: 3.226\n[KNN] Warning: 281/5000 still missing after imputation, replacing with 0\n"
     ],
     "output_type": "stream"
    }
   ],
   "source": [
    "df_test_Raw_1 = df_test_Raw[:5000]\n",
    "df_Test = fancyimpute.KNN(k=3).fit_transform(df_test_Raw_1)\n"
   ],
   "metadata": {
    "collapsed": false,
    "pycharm": {
     "name": "#%%\n",
     "is_executing": false
    }
   }
  },
  {
   "cell_type": "code",
   "execution_count": 13,
   "outputs": [
    {
     "traceback": [
      "\u001b[1;31m---------------------------------------------------------------------------\u001b[0m",
      "\u001b[1;31mAttributeError\u001b[0m                            Traceback (most recent call last)",
      "\u001b[1;32m<ipython-input-13-82d851eed73a>\u001b[0m in \u001b[0;36m<module>\u001b[1;34m\u001b[0m\n\u001b[1;32m----> 1\u001b[1;33m \u001b[0mdf_test_1\u001b[0m \u001b[1;33m=\u001b[0m \u001b[0mfancyimpute\u001b[0m\u001b[1;33m.\u001b[0m\u001b[0mBiScaler\u001b[0m\u001b[1;33m(\u001b[0m\u001b[1;33m)\u001b[0m\u001b[1;33m.\u001b[0m\u001b[0mfit_transform\u001b[0m\u001b[1;33m(\u001b[0m\u001b[0mdf_test_raw_1\u001b[0m\u001b[1;33m)\u001b[0m\u001b[1;33m\u001b[0m\u001b[1;33m\u001b[0m\u001b[0m\n\u001b[0m\u001b[0;32m      2\u001b[0m \u001b[1;33m\u001b[0m\u001b[0m\n",
      "\u001b[1;32m~\\Anaconda3\\lib\\site-packages\\fancyimpute\\scaler.py\u001b[0m in \u001b[0;36mfit_transform\u001b[1;34m(self, X)\u001b[0m\n\u001b[0;32m    396\u001b[0m \u001b[1;33m\u001b[0m\u001b[0m\n\u001b[0;32m    397\u001b[0m     \u001b[1;32mdef\u001b[0m \u001b[0mfit_transform\u001b[0m\u001b[1;33m(\u001b[0m\u001b[0mself\u001b[0m\u001b[1;33m,\u001b[0m \u001b[0mX\u001b[0m\u001b[1;33m)\u001b[0m\u001b[1;33m:\u001b[0m\u001b[1;33m\u001b[0m\u001b[1;33m\u001b[0m\u001b[0m\n\u001b[1;32m--> 398\u001b[1;33m         \u001b[0mself\u001b[0m\u001b[1;33m.\u001b[0m\u001b[0mfit\u001b[0m\u001b[1;33m(\u001b[0m\u001b[0mX\u001b[0m\u001b[1;33m)\u001b[0m\u001b[1;33m\u001b[0m\u001b[1;33m\u001b[0m\u001b[0m\n\u001b[0m\u001b[0;32m    399\u001b[0m         \u001b[1;32mreturn\u001b[0m \u001b[0mself\u001b[0m\u001b[1;33m.\u001b[0m\u001b[0mtransform\u001b[0m\u001b[1;33m(\u001b[0m\u001b[0mX\u001b[0m\u001b[1;33m)\u001b[0m\u001b[1;33m\u001b[0m\u001b[1;33m\u001b[0m\u001b[0m\n",
      "\u001b[1;32m~\\Anaconda3\\lib\\site-packages\\fancyimpute\\scaler.py\u001b[0m in \u001b[0;36mfit\u001b[1;34m(self, X)\u001b[0m\n\u001b[0;32m    270\u001b[0m         \u001b[0mX\u001b[0m \u001b[1;33m=\u001b[0m \u001b[0mself\u001b[0m\u001b[1;33m.\u001b[0m\u001b[0mclamp\u001b[0m\u001b[1;33m(\u001b[0m\u001b[0mX\u001b[0m\u001b[1;33m)\u001b[0m\u001b[1;33m\u001b[0m\u001b[1;33m\u001b[0m\u001b[0m\n\u001b[0;32m    271\u001b[0m         \u001b[0mn_rows\u001b[0m\u001b[1;33m,\u001b[0m \u001b[0mn_cols\u001b[0m \u001b[1;33m=\u001b[0m \u001b[0mX\u001b[0m\u001b[1;33m.\u001b[0m\u001b[0mshape\u001b[0m\u001b[1;33m\u001b[0m\u001b[1;33m\u001b[0m\u001b[0m\n\u001b[1;32m--> 272\u001b[1;33m         \u001b[0mdtype\u001b[0m \u001b[1;33m=\u001b[0m \u001b[0mX\u001b[0m\u001b[1;33m.\u001b[0m\u001b[0mdtype\u001b[0m\u001b[1;33m\u001b[0m\u001b[1;33m\u001b[0m\u001b[0m\n\u001b[0m\u001b[0;32m    273\u001b[0m \u001b[1;33m\u001b[0m\u001b[0m\n\u001b[0;32m    274\u001b[0m         \u001b[1;31m# To avoid inefficient memory access we keep around two copies\u001b[0m\u001b[1;33m\u001b[0m\u001b[1;33m\u001b[0m\u001b[1;33m\u001b[0m\u001b[0m\n",
      "\u001b[1;32m~\\Anaconda3\\lib\\site-packages\\pandas\\core\\generic.py\u001b[0m in \u001b[0;36m__getattr__\u001b[1;34m(self, name)\u001b[0m\n\u001b[0;32m   5065\u001b[0m             \u001b[1;32mif\u001b[0m \u001b[0mself\u001b[0m\u001b[1;33m.\u001b[0m\u001b[0m_info_axis\u001b[0m\u001b[1;33m.\u001b[0m\u001b[0m_can_hold_identifiers_and_holds_name\u001b[0m\u001b[1;33m(\u001b[0m\u001b[0mname\u001b[0m\u001b[1;33m)\u001b[0m\u001b[1;33m:\u001b[0m\u001b[1;33m\u001b[0m\u001b[1;33m\u001b[0m\u001b[0m\n\u001b[0;32m   5066\u001b[0m                 \u001b[1;32mreturn\u001b[0m \u001b[0mself\u001b[0m\u001b[1;33m[\u001b[0m\u001b[0mname\u001b[0m\u001b[1;33m]\u001b[0m\u001b[1;33m\u001b[0m\u001b[1;33m\u001b[0m\u001b[0m\n\u001b[1;32m-> 5067\u001b[1;33m             \u001b[1;32mreturn\u001b[0m \u001b[0mobject\u001b[0m\u001b[1;33m.\u001b[0m\u001b[0m__getattribute__\u001b[0m\u001b[1;33m(\u001b[0m\u001b[0mself\u001b[0m\u001b[1;33m,\u001b[0m \u001b[0mname\u001b[0m\u001b[1;33m)\u001b[0m\u001b[1;33m\u001b[0m\u001b[1;33m\u001b[0m\u001b[0m\n\u001b[0m\u001b[0;32m   5068\u001b[0m \u001b[1;33m\u001b[0m\u001b[0m\n\u001b[0;32m   5069\u001b[0m     \u001b[1;32mdef\u001b[0m \u001b[0m__setattr__\u001b[0m\u001b[1;33m(\u001b[0m\u001b[0mself\u001b[0m\u001b[1;33m,\u001b[0m \u001b[0mname\u001b[0m\u001b[1;33m,\u001b[0m \u001b[0mvalue\u001b[0m\u001b[1;33m)\u001b[0m\u001b[1;33m:\u001b[0m\u001b[1;33m\u001b[0m\u001b[1;33m\u001b[0m\u001b[0m\n",
      "\u001b[1;31mAttributeError\u001b[0m: 'DataFrame' object has no attribute 'dtype'"
     ],
     "ename": "AttributeError",
     "evalue": "'DataFrame' object has no attribute 'dtype'",
     "output_type": "error"
    }
   ],
   "source": [
    "# BiScaler doesn't work\n",
    "df_test_1 = fancyimpute.BiScaler().fit_transform(df_test_raw_1)\n"
   ],
   "metadata": {
    "collapsed": false,
    "pycharm": {
     "name": "#%%\n",
     "is_executing": false
    }
   }
  },
  {
   "cell_type": "code",
   "execution_count": 14,
   "outputs": [
    {
     "name": "stdout",
     "text": [
      "[SoftImpute] Max Singular Value of X_init = 107101.907999\n[SoftImpute] Iter 1: observed MAE=24.930681 rank=1\n[SoftImpute] Iter 2: observed MAE=24.930681 rank=1\n[SoftImpute] Iter 3: observed MAE=24.930681 rank=1\n[SoftImpute] Iter 4: observed MAE=24.930681 rank=1\n[SoftImpute] Iter 5: observed MAE=24.930681 rank=1\n[SoftImpute] Iter 6: observed MAE=24.930681 rank=1\n[SoftImpute] Iter 7: observed MAE=24.930681 rank=1\n[SoftImpute] Iter 8: observed MAE=24.930681 rank=1\n[SoftImpute] Iter 9: observed MAE=24.930681 rank=1\n[SoftImpute] Iter 10: observed MAE=24.930681 rank=1\n[SoftImpute] Iter 11: observed MAE=24.930681 rank=1\n[SoftImpute] Iter 12: observed MAE=24.930681 rank=1\n[SoftImpute] Iter 13: observed MAE=24.930681 rank=1\n[SoftImpute] Iter 14: observed MAE=24.930681 rank=1\n[SoftImpute] Iter 15: observed MAE=24.930681 rank=1\n[SoftImpute] Iter 16: observed MAE=24.930681 rank=1\n[SoftImpute] Iter 17: observed MAE=24.930681 rank=1\n[SoftImpute] Iter 18: observed MAE=24.930681 rank=1\n[SoftImpute] Iter 19: observed MAE=24.930681 rank=1\n[SoftImpute] Iter 20: observed MAE=24.930681 rank=1\n[SoftImpute] Iter 21: observed MAE=24.930681 rank=1\n[SoftImpute] Iter 22: observed MAE=24.930681 rank=1\n[SoftImpute] Iter 23: observed MAE=24.930681 rank=1\n[SoftImpute] Iter 24: observed MAE=24.930681 rank=1\n[SoftImpute] Iter 25: observed MAE=24.930681 rank=1\n[SoftImpute] Iter 26: observed MAE=24.930681 rank=1\n[SoftImpute] Iter 27: observed MAE=24.930681 rank=1\n[SoftImpute] Iter 28: observed MAE=24.930681 rank=1\n[SoftImpute] Iter 29: observed MAE=24.930681 rank=1\n[SoftImpute] Iter 30: observed MAE=24.930681 rank=1\n[SoftImpute] Iter 31: observed MAE=24.930681 rank=1\n[SoftImpute] Iter 32: observed MAE=24.930681 rank=1\n[SoftImpute] Iter 33: observed MAE=24.930681 rank=1\n[SoftImpute] Iter 34: observed MAE=24.930681 rank=1\n[SoftImpute] Iter 35: observed MAE=24.930681 rank=1\n[SoftImpute] Iter 36: observed MAE=24.930681 rank=1\n[SoftImpute] Iter 37: observed MAE=24.930681 rank=1\n[SoftImpute] Iter 38: observed MAE=24.930681 rank=1\n[SoftImpute] Iter 39: observed MAE=24.930681 rank=1\n[SoftImpute] Iter 40: observed MAE=24.930681 rank=1\n[SoftImpute] Iter 41: observed MAE=24.930681 rank=1\n[SoftImpute] Iter 42: observed MAE=24.930681 rank=1\n[SoftImpute] Iter 43: observed MAE=24.930681 rank=1\n[SoftImpute] Iter 44: observed MAE=24.930681 rank=1\n[SoftImpute] Iter 45: observed MAE=24.930681 rank=1\n[SoftImpute] Iter 46: observed MAE=24.930681 rank=1\n[SoftImpute] Iter 47: observed MAE=24.930681 rank=1\n[SoftImpute] Iter 48: observed MAE=24.930681 rank=1\n[SoftImpute] Iter 49: observed MAE=24.930681 rank=1\n[SoftImpute] Iter 50: observed MAE=24.930681 rank=1\n[SoftImpute] Iter 51: observed MAE=24.930681 rank=1\n[SoftImpute] Iter 52: observed MAE=24.930681 rank=1\n[SoftImpute] Iter 53: observed MAE=24.930681 rank=1\n[SoftImpute] Iter 54: observed MAE=24.930681 rank=1\n[SoftImpute] Iter 55: observed MAE=24.930681 rank=1\n[SoftImpute] Iter 56: observed MAE=24.930681 rank=1\n[SoftImpute] Iter 57: observed MAE=24.930681 rank=1\n[SoftImpute] Iter 58: observed MAE=24.930681 rank=1\n[SoftImpute] Iter 59: observed MAE=24.930681 rank=1\n[SoftImpute] Iter 60: observed MAE=24.930681 rank=1\n[SoftImpute] Iter 61: observed MAE=24.930681 rank=1\n[SoftImpute] Iter 62: observed MAE=24.930681 rank=1\n[SoftImpute] Iter 63: observed MAE=24.930681 rank=1\n[SoftImpute] Iter 64: observed MAE=24.930681 rank=1\n[SoftImpute] Iter 65: observed MAE=24.930681 rank=1\n[SoftImpute] Iter 66: observed MAE=24.930681 rank=1\n[SoftImpute] Iter 67: observed MAE=24.930681 rank=1\n[SoftImpute] Iter 68: observed MAE=24.930681 rank=1\n[SoftImpute] Iter 69: observed MAE=24.930681 rank=1\n[SoftImpute] Iter 70: observed MAE=24.930681 rank=1\n[SoftImpute] Iter 71: observed MAE=24.930681 rank=1\n[SoftImpute] Iter 72: observed MAE=24.930681 rank=1\n[SoftImpute] Iter 73: observed MAE=24.930681 rank=1\n[SoftImpute] Iter 74: observed MAE=24.930681 rank=1\n[SoftImpute] Iter 75: observed MAE=24.930681 rank=1\n[SoftImpute] Iter 76: observed MAE=24.930681 rank=1\n[SoftImpute] Iter 77: observed MAE=24.930681 rank=1\n[SoftImpute] Iter 78: observed MAE=24.930681 rank=1\n[SoftImpute] Iter 79: observed MAE=24.930681 rank=1\n[SoftImpute] Iter 80: observed MAE=24.930681 rank=1\n[SoftImpute] Iter 81: observed MAE=24.930681 rank=1\n[SoftImpute] Iter 82: observed MAE=24.930681 rank=1\n[SoftImpute] Iter 83: observed MAE=24.930681 rank=1\n[SoftImpute] Iter 84: observed MAE=24.930681 rank=1\n[SoftImpute] Iter 85: observed MAE=24.930681 rank=1\n[SoftImpute] Iter 86: observed MAE=24.930681 rank=1\n[SoftImpute] Iter 87: observed MAE=24.930681 rank=1\n[SoftImpute] Iter 88: observed MAE=24.930681 rank=1\n[SoftImpute] Iter 89: observed MAE=24.930681 rank=1\n[SoftImpute] Iter 90: observed MAE=24.930681 rank=1\n[SoftImpute] Iter 91: observed MAE=24.930681 rank=1\n[SoftImpute] Iter 92: observed MAE=24.930681 rank=1\n[SoftImpute] Iter 93: observed MAE=24.930681 rank=1\n[SoftImpute] Iter 94: observed MAE=24.930681 rank=1\n[SoftImpute] Iter 95: observed MAE=24.930681 rank=1\n[SoftImpute] Iter 96: observed MAE=24.930681 rank=1\n[SoftImpute] Iter 97: observed MAE=24.930681 rank=1\n[SoftImpute] Iter 98: observed MAE=24.930681 rank=1\n[SoftImpute] Iter 99: observed MAE=24.930681 rank=1\n[SoftImpute] Iter 100: observed MAE=24.930681 rank=1\n[SoftImpute] Stopped after iteration 100 for lambda=2142.038160\n"
     ],
     "output_type": "stream"
    }
   ],
   "source": [
    "df_test_2 = fancyimpute.SoftImpute().fit_transform(df_test_raw_1)\n"
   ],
   "metadata": {
    "collapsed": false,
    "pycharm": {
     "name": "#%%\n",
     "is_executing": false
    }
   }
  },
  {
   "cell_type": "code",
   "execution_count": 20,
   "outputs": [
    {
     "name": "stdout",
     "text": [
      "[SoftImpute] Max Singular Value of X_init = 111402571.303819\n[SoftImpute] Iter 1: observed MAE=4846.071299 rank=1\n[SoftImpute] Iter 2: observed MAE=4846.071299 rank=1\n[SoftImpute] Iter 3: observed MAE=4846.071299 rank=1\n[SoftImpute] Iter 4: observed MAE=4846.071299 rank=1\n[SoftImpute] Iter 5: observed MAE=4846.071299 rank=1\n[SoftImpute] Iter 6: observed MAE=4846.071299 rank=1\n[SoftImpute] Iter 7: observed MAE=4846.071299 rank=1\n[SoftImpute] Iter 8: observed MAE=4846.071299 rank=1\n[SoftImpute] Iter 9: observed MAE=4846.071299 rank=1\n[SoftImpute] Iter 10: observed MAE=4846.071299 rank=1\n[SoftImpute] Iter 11: observed MAE=4846.071299 rank=1\n[SoftImpute] Iter 12: observed MAE=4846.071299 rank=1\n[SoftImpute] Iter 13: observed MAE=4846.071299 rank=1\n[SoftImpute] Iter 14: observed MAE=4846.071299 rank=1\n[SoftImpute] Iter 15: observed MAE=4846.071299 rank=1\n[SoftImpute] Iter 16: observed MAE=4846.071299 rank=1\n[SoftImpute] Iter 17: observed MAE=4846.071299 rank=1\n[SoftImpute] Iter 18: observed MAE=4846.071299 rank=1\n[SoftImpute] Iter 19: observed MAE=4846.071299 rank=1\n[SoftImpute] Iter 20: observed MAE=4846.071299 rank=1\n[SoftImpute] Iter 21: observed MAE=4846.071299 rank=1\n[SoftImpute] Iter 22: observed MAE=4846.071299 rank=1\n[SoftImpute] Iter 23: observed MAE=4846.071299 rank=1\n[SoftImpute] Iter 24: observed MAE=4846.071299 rank=1\n[SoftImpute] Iter 25: observed MAE=4846.071299 rank=1\n[SoftImpute] Iter 26: observed MAE=4846.071299 rank=1\n[SoftImpute] Iter 27: observed MAE=4846.071299 rank=1\n[SoftImpute] Iter 28: observed MAE=4846.071299 rank=1\n[SoftImpute] Iter 29: observed MAE=4846.071299 rank=1\n[SoftImpute] Iter 30: observed MAE=4846.071299 rank=1\n[SoftImpute] Iter 31: observed MAE=4846.071299 rank=1\n[SoftImpute] Iter 32: observed MAE=4846.071299 rank=1\n[SoftImpute] Iter 33: observed MAE=4846.071299 rank=1\n[SoftImpute] Iter 34: observed MAE=4846.071299 rank=1\n[SoftImpute] Iter 35: observed MAE=4846.071299 rank=1\n[SoftImpute] Iter 36: observed MAE=4846.071299 rank=1\n[SoftImpute] Iter 37: observed MAE=4846.071299 rank=1\n[SoftImpute] Iter 38: observed MAE=4846.071299 rank=1\n[SoftImpute] Iter 39: observed MAE=4846.071299 rank=1\n[SoftImpute] Iter 40: observed MAE=4846.071299 rank=1\n[SoftImpute] Iter 41: observed MAE=4846.071299 rank=1\n[SoftImpute] Iter 42: observed MAE=4846.071299 rank=1\n[SoftImpute] Iter 43: observed MAE=4846.071299 rank=1\n[SoftImpute] Iter 44: observed MAE=4846.071299 rank=1\n[SoftImpute] Iter 45: observed MAE=4846.071299 rank=1\n[SoftImpute] Iter 46: observed MAE=4846.071299 rank=1\n[SoftImpute] Iter 47: observed MAE=4846.071299 rank=1\n[SoftImpute] Iter 48: observed MAE=4846.071299 rank=1\n[SoftImpute] Iter 49: observed MAE=4846.071299 rank=1\n[SoftImpute] Iter 50: observed MAE=4846.071299 rank=1\n[SoftImpute] Iter 51: observed MAE=4846.071299 rank=1\n[SoftImpute] Iter 52: observed MAE=4846.071299 rank=1\n[SoftImpute] Iter 53: observed MAE=4846.071299 rank=1\n[SoftImpute] Iter 54: observed MAE=4846.071299 rank=1\n[SoftImpute] Iter 55: observed MAE=4846.071299 rank=1\n[SoftImpute] Iter 56: observed MAE=4846.071299 rank=1\n[SoftImpute] Iter 57: observed MAE=4846.071299 rank=1\n[SoftImpute] Iter 58: observed MAE=4846.071299 rank=1\n[SoftImpute] Iter 59: observed MAE=4846.071299 rank=1\n[SoftImpute] Iter 60: observed MAE=4846.071299 rank=1\n[SoftImpute] Iter 61: observed MAE=4846.071299 rank=1\n[SoftImpute] Iter 62: observed MAE=4846.071299 rank=1\n[SoftImpute] Iter 63: observed MAE=4846.071299 rank=1\n[SoftImpute] Iter 64: observed MAE=4846.071299 rank=1\n[SoftImpute] Iter 65: observed MAE=4846.071299 rank=1\n[SoftImpute] Iter 66: observed MAE=4846.071299 rank=1\n[SoftImpute] Iter 67: observed MAE=4846.071299 rank=1\n[SoftImpute] Iter 68: observed MAE=4846.071299 rank=1\n[SoftImpute] Iter 69: observed MAE=4846.071299 rank=1\n[SoftImpute] Iter 70: observed MAE=4846.071299 rank=1\n[SoftImpute] Iter 71: observed MAE=4846.071299 rank=1\n[SoftImpute] Iter 72: observed MAE=4846.071299 rank=1\n[SoftImpute] Iter 73: observed MAE=4846.071299 rank=1\n[SoftImpute] Iter 74: observed MAE=4846.071299 rank=1\n[SoftImpute] Iter 75: observed MAE=4846.071299 rank=1\n[SoftImpute] Iter 76: observed MAE=4846.071299 rank=1\n[SoftImpute] Iter 77: observed MAE=4846.071299 rank=1\n[SoftImpute] Iter 78: observed MAE=4846.071299 rank=1\n[SoftImpute] Iter 79: observed MAE=4846.071299 rank=1\n[SoftImpute] Iter 80: observed MAE=4846.071299 rank=1\n[SoftImpute] Iter 81: observed MAE=4846.071299 rank=1\n[SoftImpute] Iter 82: observed MAE=4846.071299 rank=1\n[SoftImpute] Iter 83: observed MAE=4846.071299 rank=1\n[SoftImpute] Iter 84: observed MAE=4846.071299 rank=1\n[SoftImpute] Iter 85: observed MAE=4846.071299 rank=1\n[SoftImpute] Iter 86: observed MAE=4846.071299 rank=1\n[SoftImpute] Iter 87: observed MAE=4846.071299 rank=1\n[SoftImpute] Iter 88: observed MAE=4846.071299 rank=1\n[SoftImpute] Iter 89: observed MAE=4846.071299 rank=1\n[SoftImpute] Iter 90: observed MAE=4846.071299 rank=1\n[SoftImpute] Iter 91: observed MAE=4846.071299 rank=1\n[SoftImpute] Iter 92: observed MAE=4846.071299 rank=1\n[SoftImpute] Iter 93: observed MAE=4846.071299 rank=1\n[SoftImpute] Iter 94: observed MAE=4846.071299 rank=1\n[SoftImpute] Iter 95: observed MAE=4846.071299 rank=1\n[SoftImpute] Iter 96: observed MAE=4846.071299 rank=1\n[SoftImpute] Iter 97: observed MAE=4846.071299 rank=1\n[SoftImpute] Iter 98: observed MAE=4846.071299 rank=1\n[SoftImpute] Iter 99: observed MAE=4846.071299 rank=1\n[SoftImpute] Iter 100: observed MAE=4846.071299 rank=1\n[SoftImpute] Stopped after iteration 100 for lambda=2228051.426076\n"
     ],
     "output_type": "stream"
    }
   ],
   "source": [
    "df_Test_2 = fancyimpute.SoftImpute().fit_transform(df_test_Raw_1)\n"
   ],
   "metadata": {
    "collapsed": false,
    "pycharm": {
     "name": "#%%\n",
     "is_executing": false
    }
   }
  },
  {
   "cell_type": "code",
   "execution_count": 21,
   "outputs": [
    {
     "traceback": [
      "\u001b[1;31m---------------------------------------------------------------------------\u001b[0m",
      "\u001b[1;31mNameError\u001b[0m                                 Traceback (most recent call last)",
      "\u001b[1;32m<ipython-input-21-0110dd486230>\u001b[0m in \u001b[0;36m<module>\u001b[1;34m\u001b[0m\n\u001b[0;32m      1\u001b[0m \u001b[0mtest\u001b[0m \u001b[1;33m=\u001b[0m \u001b[0mdf_raw_2\u001b[0m\u001b[1;33m.\u001b[0m\u001b[0mdrop\u001b[0m\u001b[1;33m(\u001b[0m\u001b[1;33m[\u001b[0m\u001b[1;34m\"price\"\u001b[0m\u001b[1;33m,\u001b[0m\u001b[1;34m\"image_top_1\"\u001b[0m\u001b[1;33m,\u001b[0m\u001b[1;34m\"deal_probability\"\u001b[0m\u001b[1;33m]\u001b[0m\u001b[1;33m,\u001b[0m\u001b[0maxis\u001b[0m\u001b[1;33m=\u001b[0m\u001b[1;36m1\u001b[0m\u001b[1;33m)\u001b[0m\u001b[1;33m\u001b[0m\u001b[1;33m\u001b[0m\u001b[0m\n\u001b[1;32m----> 2\u001b[1;33m \u001b[0mx\u001b[0m \u001b[1;33m=\u001b[0m \u001b[0mpd\u001b[0m\u001b[1;33m.\u001b[0m\u001b[0mconcat\u001b[0m\u001b[1;33m(\u001b[0m\u001b[1;33m[\u001b[0m\u001b[0mtest\u001b[0m\u001b[1;33m,\u001b[0m \u001b[0mdf_test\u001b[0m\u001b[1;33m,\u001b[0m \u001b[0mdf_Test\u001b[0m\u001b[1;33m]\u001b[0m\u001b[1;33m,\u001b[0m \u001b[0maxis\u001b[0m\u001b[1;33m=\u001b[0m\u001b[1;36m1\u001b[0m\u001b[1;33m)\u001b[0m\u001b[1;33m\u001b[0m\u001b[1;33m\u001b[0m\u001b[0m\n\u001b[0m\u001b[0;32m      3\u001b[0m \u001b[0my\u001b[0m \u001b[1;33m=\u001b[0m \u001b[0mdf_test_raw\u001b[0m\u001b[1;33m[\u001b[0m\u001b[1;34m'deal_probability'\u001b[0m\u001b[1;33m]\u001b[0m\u001b[1;33m\u001b[0m\u001b[1;33m\u001b[0m\u001b[0m\n\u001b[0;32m      4\u001b[0m \u001b[0mx_trn_test\u001b[0m\u001b[1;33m,\u001b[0m\u001b[0mx_val_test\u001b[0m \u001b[1;33m=\u001b[0m \u001b[0msplit_df\u001b[0m\u001b[1;33m(\u001b[0m\u001b[0mx\u001b[0m\u001b[1;33m,\u001b[0m\u001b[1;36m3500\u001b[0m\u001b[1;33m)\u001b[0m\u001b[1;33m\u001b[0m\u001b[1;33m\u001b[0m\u001b[0m\n\u001b[0;32m      5\u001b[0m \u001b[0my_trn_test\u001b[0m\u001b[1;33m,\u001b[0m\u001b[0my_val_test\u001b[0m \u001b[1;33m=\u001b[0m \u001b[0msplit_df\u001b[0m\u001b[1;33m(\u001b[0m\u001b[0my\u001b[0m\u001b[1;33m,\u001b[0m\u001b[1;36m3500\u001b[0m\u001b[1;33m)\u001b[0m\u001b[1;33m\u001b[0m\u001b[1;33m\u001b[0m\u001b[0m\n",
      "\u001b[1;31mNameError\u001b[0m: name 'df_test' is not defined"
     ],
     "ename": "NameError",
     "evalue": "name 'df_test' is not defined",
     "output_type": "error"
    }
   ],
   "source": [
    "test = df_raw_2.drop([\"price\",\"image_top_1\",\"deal_probability\"],axis=1)\n",
    "x = pd.concat([test, df_test, df_Test], axis=1)\n",
    "y = df_test_raw['deal_probability']\n",
    "x_trn_test,x_val_test = split_df(x,3500)\n",
    "y_trn_test,y_val_test = split_df(y,3500)\n"
   ],
   "metadata": {
    "collapsed": false,
    "pycharm": {
     "name": "#%%\n",
     "is_executing": false
    }
   }
  },
  {
   "cell_type": "code",
   "execution_count": 22,
   "outputs": [
    {
     "traceback": [
      "\u001b[1;31m---------------------------------------------------------------------------\u001b[0m",
      "\u001b[1;31mNameError\u001b[0m                                 Traceback (most recent call last)",
      "\u001b[1;32m<ipython-input-22-4056e6ae9478>\u001b[0m in \u001b[0;36m<module>\u001b[1;34m\u001b[0m\n\u001b[0;32m      1\u001b[0m \u001b[0mmod_2\u001b[0m \u001b[1;33m=\u001b[0m \u001b[0mRandomForestRegressor\u001b[0m\u001b[1;33m(\u001b[0m\u001b[0mn_jobs\u001b[0m \u001b[1;33m=\u001b[0m \u001b[1;33m-\u001b[0m\u001b[1;36m1\u001b[0m\u001b[1;33m,\u001b[0m\u001b[0moob_score\u001b[0m \u001b[1;33m=\u001b[0m \u001b[1;32mFalse\u001b[0m\u001b[1;33m,\u001b[0m\u001b[0mn_estimators\u001b[0m \u001b[1;33m=\u001b[0m \u001b[1;36m50\u001b[0m\u001b[1;33m,\u001b[0m \u001b[0mmax_depth\u001b[0m \u001b[1;33m=\u001b[0m \u001b[1;36m40000\u001b[0m\u001b[1;33m,\u001b[0m\u001b[0mmin_samples_leaf\u001b[0m \u001b[1;33m=\u001b[0m \u001b[1;36m25\u001b[0m\u001b[1;33m)\u001b[0m\u001b[1;33m\u001b[0m\u001b[1;33m\u001b[0m\u001b[0m\n\u001b[1;32m----> 2\u001b[1;33m \u001b[0mmod_2\u001b[0m\u001b[1;33m.\u001b[0m\u001b[0mfit\u001b[0m\u001b[1;33m(\u001b[0m\u001b[0mx_trn_test\u001b[0m\u001b[1;33m,\u001b[0m\u001b[0my_trn_test\u001b[0m\u001b[1;33m)\u001b[0m\u001b[1;33m\u001b[0m\u001b[1;33m\u001b[0m\u001b[0m\n\u001b[0m\u001b[0;32m      3\u001b[0m \u001b[0mrsq_n_rmse\u001b[0m\u001b[1;33m(\u001b[0m\u001b[0mmod_2\u001b[0m\u001b[1;33m,\u001b[0m\u001b[0mx_trn_test\u001b[0m\u001b[1;33m,\u001b[0m\u001b[0my_trn_test\u001b[0m\u001b[1;33m,\u001b[0m\u001b[0mx_val_test\u001b[0m\u001b[1;33m,\u001b[0m\u001b[0my_val_test\u001b[0m\u001b[1;33m)\u001b[0m\u001b[1;33m\u001b[0m\u001b[1;33m\u001b[0m\u001b[0m\n",
      "\u001b[1;31mNameError\u001b[0m: name 'x_trn_test' is not defined"
     ],
     "ename": "NameError",
     "evalue": "name 'x_trn_test' is not defined",
     "output_type": "error"
    }
   ],
   "source": [
    "mod_2 = RandomForestRegressor(n_jobs = -1,oob_score = False,n_estimators = 50, max_depth = 40000,min_samples_leaf = 25)\n",
    "mod_2.fit(x_trn_test,y_trn_test)\n",
    "rsq_n_rmse(mod_2,x_trn_test,y_trn_test,x_val_test,y_val_test)"
   ],
   "metadata": {
    "collapsed": false,
    "pycharm": {
     "name": "#%%\n",
     "is_executing": false
    }
   }
  }
 ],
 "metadata": {
  "language_info": {
   "codemirror_mode": {
    "name": "ipython",
    "version": 2
   },
   "file_extension": ".py",
   "mimetype": "text/x-python",
   "name": "python",
   "nbconvert_exporter": "python",
   "pygments_lexer": "ipython2",
   "version": "2.7.6"
  },
  "kernelspec": {
   "name": "python3",
   "language": "python",
   "display_name": "Python 3"
  },
  "pycharm": {
   "stem_cell": {
    "cell_type": "raw",
    "source": [],
    "metadata": {
     "collapsed": false
    }
   }
  }
 },
 "nbformat": 4,
 "nbformat_minor": 0
}