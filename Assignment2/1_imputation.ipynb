{
 "cells": [
  {
   "cell_type": "code",
   "execution_count": 1,
   "metadata": {
    "collapsed": true,
    "pycharm": {
     "is_executing": false
    }
   },
   "outputs": [
    {
     "name": "stderr",
     "text": [
      "Using TensorFlow backend.\n"
     ],
     "output_type": "stream"
    }
   ],
   "source": [
    "import pandas as pd\n",
    "from sklearn.ensemble import RandomForestRegressor\n",
    "from sklearn.metrics import accuracy_score,f1_score\n",
    "from pandas.api.types import is_string_dtype,is_numeric_dtype\n",
    "import seaborn as sns\n",
    "import matplotlib.pyplot as plt\n",
    "from sklearn.model_selection import train_test_split\n",
    "import numpy as np\n",
    "import fancyimpute\n",
    "%matplotlib inline\n"
   ]
  },
  {
   "cell_type": "code",
   "execution_count": 2,
   "outputs": [
    {
     "data": {
      "text/plain": "'D:\\\\Python\\\\DataScience\\\\DataScience6105\\\\Assignment2'"
     },
     "metadata": {},
     "output_type": "execute_result",
     "execution_count": 2
    }
   ],
   "source": [
    "%pwd\n"
   ],
   "metadata": {
    "collapsed": false,
    "pycharm": {
     "name": "#%%\n",
     "is_executing": false
    }
   }
  },
  {
   "cell_type": "code",
   "execution_count": 3,
   "outputs": [],
   "source": [
    "path = 'D:\\\\Python\\\\DataScience\\\\DataScience6105\\\\Assignment2'\n"
   ],
   "metadata": {
    "collapsed": false,
    "pycharm": {
     "name": "#%%\n",
     "is_executing": false
    }
   }
  },
  {
   "cell_type": "code",
   "execution_count": 4,
   "outputs": [],
   "source": [
    "df_raw = pd.read_csv(f'{path}/train.csv',parse_dates = [\"activation_date\"])\n",
    "\n"
   ],
   "metadata": {
    "collapsed": false,
    "pycharm": {
     "name": "#%%\n",
     "is_executing": false
    }
   }
  },
  {
   "cell_type": "code",
   "execution_count": 5,
   "outputs": [
    {
     "data": {
      "text/plain": "             item_id       user_id             region         city  \\\n751711  3b896605f03c  9457abfa0ebf  Самарская область       Самара   \n889369  c81c34d3aac5  0b161da2b144  Иркутская область       Братск   \n175952  a8ab6225dd06  93d527a1ca66      Пермский край  Краснокамск   \n\n       parent_category_name              category_name         param_1  \\\n751711          Личные вещи     Детская одежда и обувь   Для мальчиков   \n889369  Бытовая электроника                   Телефоны      Аксессуары   \n175952          Личные вещи  Одежда, обувь, аксессуары  Женская одежда   \n\n               param_2              param_3                   title  \\\n751711  Верхняя одежда  86-92 см (1-2 года)       Зимний комбенизон   \n889369  Чехлы и плёнки                  NaN     Чехол для айфона 6s   \n175952  Верхняя одежда            44–46 (M)  Продам кожанную куртку   \n\n                         description   price  item_seq_number activation_date  \\\n751711  Зимний комбенизон для малыша   500.0               12      2017-03-15   \n889369               Твёрдый пластик   100.0                5      2017-03-15   \n175952                           NaN  1500.0               32      2017-03-15   \n\n       user_type                                              image  \\\n751711   Private  a805aa774699aca42e538e1626ef70f806dd38d1bf85eb...   \n889369   Private  76c39c52a894c51499da3ee2ddecd98da533ccbdae5096...   \n175952   Private  d7cb3c4a84ce9f95958f2995474140b28ae7ad1cd0d6de...   \n\n        image_top_1  deal_probability  \n751711       1008.0               0.0  \n889369       2909.0               0.0  \n175952        527.0               0.0  ",
      "text/html": "<div>\n<style scoped>\n    .dataframe tbody tr th:only-of-type {\n        vertical-align: middle;\n    }\n\n    .dataframe tbody tr th {\n        vertical-align: top;\n    }\n\n    .dataframe thead th {\n        text-align: right;\n    }\n</style>\n<table border=\"1\" class=\"dataframe\">\n  <thead>\n    <tr style=\"text-align: right;\">\n      <th></th>\n      <th>item_id</th>\n      <th>user_id</th>\n      <th>region</th>\n      <th>city</th>\n      <th>parent_category_name</th>\n      <th>category_name</th>\n      <th>param_1</th>\n      <th>param_2</th>\n      <th>param_3</th>\n      <th>title</th>\n      <th>description</th>\n      <th>price</th>\n      <th>item_seq_number</th>\n      <th>activation_date</th>\n      <th>user_type</th>\n      <th>image</th>\n      <th>image_top_1</th>\n      <th>deal_probability</th>\n    </tr>\n  </thead>\n  <tbody>\n    <tr>\n      <th>751711</th>\n      <td>3b896605f03c</td>\n      <td>9457abfa0ebf</td>\n      <td>Самарская область</td>\n      <td>Самара</td>\n      <td>Личные вещи</td>\n      <td>Детская одежда и обувь</td>\n      <td>Для мальчиков</td>\n      <td>Верхняя одежда</td>\n      <td>86-92 см (1-2 года)</td>\n      <td>Зимний комбенизон</td>\n      <td>Зимний комбенизон для малыша</td>\n      <td>500.0</td>\n      <td>12</td>\n      <td>2017-03-15</td>\n      <td>Private</td>\n      <td>a805aa774699aca42e538e1626ef70f806dd38d1bf85eb...</td>\n      <td>1008.0</td>\n      <td>0.0</td>\n    </tr>\n    <tr>\n      <th>889369</th>\n      <td>c81c34d3aac5</td>\n      <td>0b161da2b144</td>\n      <td>Иркутская область</td>\n      <td>Братск</td>\n      <td>Бытовая электроника</td>\n      <td>Телефоны</td>\n      <td>Аксессуары</td>\n      <td>Чехлы и плёнки</td>\n      <td>NaN</td>\n      <td>Чехол для айфона 6s</td>\n      <td>Твёрдый пластик</td>\n      <td>100.0</td>\n      <td>5</td>\n      <td>2017-03-15</td>\n      <td>Private</td>\n      <td>76c39c52a894c51499da3ee2ddecd98da533ccbdae5096...</td>\n      <td>2909.0</td>\n      <td>0.0</td>\n    </tr>\n    <tr>\n      <th>175952</th>\n      <td>a8ab6225dd06</td>\n      <td>93d527a1ca66</td>\n      <td>Пермский край</td>\n      <td>Краснокамск</td>\n      <td>Личные вещи</td>\n      <td>Одежда, обувь, аксессуары</td>\n      <td>Женская одежда</td>\n      <td>Верхняя одежда</td>\n      <td>44–46 (M)</td>\n      <td>Продам кожанную куртку</td>\n      <td>NaN</td>\n      <td>1500.0</td>\n      <td>32</td>\n      <td>2017-03-15</td>\n      <td>Private</td>\n      <td>d7cb3c4a84ce9f95958f2995474140b28ae7ad1cd0d6de...</td>\n      <td>527.0</td>\n      <td>0.0</td>\n    </tr>\n  </tbody>\n</table>\n</div>"
     },
     "metadata": {},
     "output_type": "execute_result",
     "execution_count": 5
    }
   ],
   "source": [
    "df_raw.sort_values(by = \"activation_date\",inplace = True)\n",
    "df_raw.head(3)\n"
   ],
   "metadata": {
    "collapsed": false,
    "pycharm": {
     "name": "#%%\n",
     "is_executing": false
    }
   }
  },
  {
   "cell_type": "code",
   "execution_count": 6,
   "outputs": [],
   "source": [
    "'''Define functions to preprocess data - split dates, categorize, impute'''\n",
    "\n",
    "def split_dates(df,date_column):\n",
    "    date_df = pd.DataFrame({\"year\": df[date_column].dt.year,\n",
    "              \"month\": df[date_column].dt.month,\n",
    "              \"day\": df[date_column].dt.day,\n",
    "              \"dayofyear\": df[date_column].dt.dayofyear,\n",
    "              \"week\": df[date_column].dt.week,\n",
    "              \"weekofyear\": df[date_column].dt.weekofyear,\n",
    "              \"dayofweek\": df[date_column].dt.dayofweek,\n",
    "              \"weekday\": df[date_column].dt.weekday,\n",
    "              \"quarter\": df[date_column].dt.quarter,\n",
    "             })\n",
    "    df = df.drop(date_column,axis = 1)\n",
    "    df = pd.concat([df,date_df],axis = 1)\n",
    "    return df\n",
    "\n",
    "def str_to_cat(my_df):\n",
    "    for p,q in my_df.items(): #my_df.items() is a generator in Python\n",
    "        if is_string_dtype(q): \n",
    "            my_df[p] = q.astype('category').cat.as_ordered()\n",
    "    return my_df\n",
    "def mydf_to_nums(my_df, feature, null_status):\n",
    "    if not is_numeric_dtype(feature):\n",
    "        my_df[null_status] = feature.cat.codes + 1\n",
    "        \n",
    "def mydf_imputer(my_df, feature, null_status, null_table):\n",
    "    if is_numeric_dtype(feature):\n",
    "        if pd.isnull(feature).sum() or (null_status in null_table):\n",
    "            my_df[null_status+'_na'] = pd.isnull(feature)\n",
    "            filler = null_table[null_status] if null_status in null_table else feature.median()\n",
    "            my_df[null_status] = feature.fillna(filler)\n",
    "            null_table[null_status] = filler\n",
    "    return null_table   \n",
    "\n",
    "def mydf_preprocessor(my_df, null_table):\n",
    "    '''null_table  = your table or None'''\n",
    "    \n",
    "    if null_table is None: \n",
    "        null_table = dict()\n",
    "    for p,q in my_df.items(): \n",
    "        null_table = mydf_imputer(my_df, q, p, null_table)\n",
    "    for p,q in my_df.items(): \n",
    "        mydf_to_nums(my_df, q, p)\n",
    "    my_df = pd.get_dummies(my_df, dummy_na = True)\n",
    "    res = [my_df, null_table]\n",
    "    return res\n"
   ],
   "metadata": {
    "collapsed": false,
    "pycharm": {
     "name": "#%%\n",
     "is_executing": false
    }
   }
  },
  {
   "cell_type": "code",
   "execution_count": 7,
   "outputs": [
    {
     "data": {
      "text/plain": "             item_id       user_id             region         city  \\\n751711  3b896605f03c  9457abfa0ebf  Самарская область       Самара   \n889369  c81c34d3aac5  0b161da2b144  Иркутская область       Братск   \n175952  a8ab6225dd06  93d527a1ca66      Пермский край  Краснокамск   \n\n       parent_category_name              category_name         param_1  \\\n751711          Личные вещи     Детская одежда и обувь   Для мальчиков   \n889369  Бытовая электроника                   Телефоны      Аксессуары   \n175952          Личные вещи  Одежда, обувь, аксессуары  Женская одежда   \n\n               param_2              param_3                   title  ...  \\\n751711  Верхняя одежда  86-92 см (1-2 года)       Зимний комбенизон  ...   \n889369  Чехлы и плёнки                  NaN     Чехол для айфона 6s  ...   \n175952  Верхняя одежда            44–46 (M)  Продам кожанную куртку  ...   \n\n       deal_probability  year  month day dayofyear  week  weekofyear  \\\n751711              0.0  2017      3  15        74    11          11   \n889369              0.0  2017      3  15        74    11          11   \n175952              0.0  2017      3  15        74    11          11   \n\n        dayofweek  weekday  quarter  \n751711          2        2        1  \n889369          2        2        1  \n175952          2        2        1  \n\n[3 rows x 26 columns]",
      "text/html": "<div>\n<style scoped>\n    .dataframe tbody tr th:only-of-type {\n        vertical-align: middle;\n    }\n\n    .dataframe tbody tr th {\n        vertical-align: top;\n    }\n\n    .dataframe thead th {\n        text-align: right;\n    }\n</style>\n<table border=\"1\" class=\"dataframe\">\n  <thead>\n    <tr style=\"text-align: right;\">\n      <th></th>\n      <th>item_id</th>\n      <th>user_id</th>\n      <th>region</th>\n      <th>city</th>\n      <th>parent_category_name</th>\n      <th>category_name</th>\n      <th>param_1</th>\n      <th>param_2</th>\n      <th>param_3</th>\n      <th>title</th>\n      <th>...</th>\n      <th>deal_probability</th>\n      <th>year</th>\n      <th>month</th>\n      <th>day</th>\n      <th>dayofyear</th>\n      <th>week</th>\n      <th>weekofyear</th>\n      <th>dayofweek</th>\n      <th>weekday</th>\n      <th>quarter</th>\n    </tr>\n  </thead>\n  <tbody>\n    <tr>\n      <th>751711</th>\n      <td>3b896605f03c</td>\n      <td>9457abfa0ebf</td>\n      <td>Самарская область</td>\n      <td>Самара</td>\n      <td>Личные вещи</td>\n      <td>Детская одежда и обувь</td>\n      <td>Для мальчиков</td>\n      <td>Верхняя одежда</td>\n      <td>86-92 см (1-2 года)</td>\n      <td>Зимний комбенизон</td>\n      <td>...</td>\n      <td>0.0</td>\n      <td>2017</td>\n      <td>3</td>\n      <td>15</td>\n      <td>74</td>\n      <td>11</td>\n      <td>11</td>\n      <td>2</td>\n      <td>2</td>\n      <td>1</td>\n    </tr>\n    <tr>\n      <th>889369</th>\n      <td>c81c34d3aac5</td>\n      <td>0b161da2b144</td>\n      <td>Иркутская область</td>\n      <td>Братск</td>\n      <td>Бытовая электроника</td>\n      <td>Телефоны</td>\n      <td>Аксессуары</td>\n      <td>Чехлы и плёнки</td>\n      <td>NaN</td>\n      <td>Чехол для айфона 6s</td>\n      <td>...</td>\n      <td>0.0</td>\n      <td>2017</td>\n      <td>3</td>\n      <td>15</td>\n      <td>74</td>\n      <td>11</td>\n      <td>11</td>\n      <td>2</td>\n      <td>2</td>\n      <td>1</td>\n    </tr>\n    <tr>\n      <th>175952</th>\n      <td>a8ab6225dd06</td>\n      <td>93d527a1ca66</td>\n      <td>Пермский край</td>\n      <td>Краснокамск</td>\n      <td>Личные вещи</td>\n      <td>Одежда, обувь, аксессуары</td>\n      <td>Женская одежда</td>\n      <td>Верхняя одежда</td>\n      <td>44–46 (M)</td>\n      <td>Продам кожанную куртку</td>\n      <td>...</td>\n      <td>0.0</td>\n      <td>2017</td>\n      <td>3</td>\n      <td>15</td>\n      <td>74</td>\n      <td>11</td>\n      <td>11</td>\n      <td>2</td>\n      <td>2</td>\n      <td>1</td>\n    </tr>\n  </tbody>\n</table>\n<p>3 rows × 26 columns</p>\n</div>"
     },
     "metadata": {},
     "output_type": "execute_result",
     "execution_count": 7
    }
   ],
   "source": [
    "df_raw_1 = split_dates(df_raw,\"activation_date\")\n",
    "df_raw_1.head(3)\n"
   ],
   "metadata": {
    "collapsed": false,
    "pycharm": {
     "name": "#%%\n",
     "is_executing": false
    }
   }
  },
  {
   "cell_type": "code",
   "execution_count": 8,
   "outputs": [
    {
     "data": {
      "text/plain": "             item_id       user_id             region         city  \\\n751711  3b896605f03c  9457abfa0ebf  Самарская область       Самара   \n889369  c81c34d3aac5  0b161da2b144  Иркутская область       Братск   \n175952  a8ab6225dd06  93d527a1ca66      Пермский край  Краснокамск   \n\n       parent_category_name              category_name         param_1  \\\n751711          Личные вещи     Детская одежда и обувь   Для мальчиков   \n889369  Бытовая электроника                   Телефоны      Аксессуары   \n175952          Личные вещи  Одежда, обувь, аксессуары  Женская одежда   \n\n               param_2              param_3                   title  ...  \\\n751711  Верхняя одежда  86-92 см (1-2 года)       Зимний комбенизон  ...   \n889369  Чехлы и плёнки                  NaN     Чехол для айфона 6s  ...   \n175952  Верхняя одежда            44–46 (M)  Продам кожанную куртку  ...   \n\n       deal_probability  year  month day dayofyear  week  weekofyear  \\\n751711              0.0  2017      3  15        74    11          11   \n889369              0.0  2017      3  15        74    11          11   \n175952              0.0  2017      3  15        74    11          11   \n\n        dayofweek  weekday  quarter  \n751711          2        2        1  \n889369          2        2        1  \n175952          2        2        1  \n\n[3 rows x 26 columns]",
      "text/html": "<div>\n<style scoped>\n    .dataframe tbody tr th:only-of-type {\n        vertical-align: middle;\n    }\n\n    .dataframe tbody tr th {\n        vertical-align: top;\n    }\n\n    .dataframe thead th {\n        text-align: right;\n    }\n</style>\n<table border=\"1\" class=\"dataframe\">\n  <thead>\n    <tr style=\"text-align: right;\">\n      <th></th>\n      <th>item_id</th>\n      <th>user_id</th>\n      <th>region</th>\n      <th>city</th>\n      <th>parent_category_name</th>\n      <th>category_name</th>\n      <th>param_1</th>\n      <th>param_2</th>\n      <th>param_3</th>\n      <th>title</th>\n      <th>...</th>\n      <th>deal_probability</th>\n      <th>year</th>\n      <th>month</th>\n      <th>day</th>\n      <th>dayofyear</th>\n      <th>week</th>\n      <th>weekofyear</th>\n      <th>dayofweek</th>\n      <th>weekday</th>\n      <th>quarter</th>\n    </tr>\n  </thead>\n  <tbody>\n    <tr>\n      <th>751711</th>\n      <td>3b896605f03c</td>\n      <td>9457abfa0ebf</td>\n      <td>Самарская область</td>\n      <td>Самара</td>\n      <td>Личные вещи</td>\n      <td>Детская одежда и обувь</td>\n      <td>Для мальчиков</td>\n      <td>Верхняя одежда</td>\n      <td>86-92 см (1-2 года)</td>\n      <td>Зимний комбенизон</td>\n      <td>...</td>\n      <td>0.0</td>\n      <td>2017</td>\n      <td>3</td>\n      <td>15</td>\n      <td>74</td>\n      <td>11</td>\n      <td>11</td>\n      <td>2</td>\n      <td>2</td>\n      <td>1</td>\n    </tr>\n    <tr>\n      <th>889369</th>\n      <td>c81c34d3aac5</td>\n      <td>0b161da2b144</td>\n      <td>Иркутская область</td>\n      <td>Братск</td>\n      <td>Бытовая электроника</td>\n      <td>Телефоны</td>\n      <td>Аксессуары</td>\n      <td>Чехлы и плёнки</td>\n      <td>NaN</td>\n      <td>Чехол для айфона 6s</td>\n      <td>...</td>\n      <td>0.0</td>\n      <td>2017</td>\n      <td>3</td>\n      <td>15</td>\n      <td>74</td>\n      <td>11</td>\n      <td>11</td>\n      <td>2</td>\n      <td>2</td>\n      <td>1</td>\n    </tr>\n    <tr>\n      <th>175952</th>\n      <td>a8ab6225dd06</td>\n      <td>93d527a1ca66</td>\n      <td>Пермский край</td>\n      <td>Краснокамск</td>\n      <td>Личные вещи</td>\n      <td>Одежда, обувь, аксессуары</td>\n      <td>Женская одежда</td>\n      <td>Верхняя одежда</td>\n      <td>44–46 (M)</td>\n      <td>Продам кожанную куртку</td>\n      <td>...</td>\n      <td>0.0</td>\n      <td>2017</td>\n      <td>3</td>\n      <td>15</td>\n      <td>74</td>\n      <td>11</td>\n      <td>11</td>\n      <td>2</td>\n      <td>2</td>\n      <td>1</td>\n    </tr>\n  </tbody>\n</table>\n<p>3 rows × 26 columns</p>\n</div>"
     },
     "metadata": {},
     "output_type": "execute_result",
     "execution_count": 8
    }
   ],
   "source": [
    "df_raw_2 = str_to_cat(df_raw_1)\n",
    "df_raw_2.head(3)\n"
   ],
   "metadata": {
    "collapsed": false,
    "pycharm": {
     "name": "#%%\n",
     "is_executing": false
    }
   }
  },
  {
   "cell_type": "code",
   "execution_count": 10,
   "outputs": [
    {
     "data": {
      "text/plain": "        item_id  user_id  region  city  parent_category_name  category_name  \\\n751711   348938   447528      18  1301                     5             11   \n889369  1175228    33441       7   232                     1             42   \n175952   991010   446030      16   729                     5             30   \n\n        param_1  param_2  param_3   title  ...  month  day  dayofyear  week  \\\n751711      110      122      186  261804  ...      3   15         74    11   \n889369       41      262        0  754605  ...      3   15         74    11   \n175952      126      122      144  562387  ...      3   15         74    11   \n\n        weekofyear  dayofweek  weekday  quarter  price_na  image_top_1_na  \n751711          11          2        2        1     False           False  \n889369          11          2        2        1     False           False  \n175952          11          2        2        1     False           False  \n\n[3 rows x 28 columns]",
      "text/html": "<div>\n<style scoped>\n    .dataframe tbody tr th:only-of-type {\n        vertical-align: middle;\n    }\n\n    .dataframe tbody tr th {\n        vertical-align: top;\n    }\n\n    .dataframe thead th {\n        text-align: right;\n    }\n</style>\n<table border=\"1\" class=\"dataframe\">\n  <thead>\n    <tr style=\"text-align: right;\">\n      <th></th>\n      <th>item_id</th>\n      <th>user_id</th>\n      <th>region</th>\n      <th>city</th>\n      <th>parent_category_name</th>\n      <th>category_name</th>\n      <th>param_1</th>\n      <th>param_2</th>\n      <th>param_3</th>\n      <th>title</th>\n      <th>...</th>\n      <th>month</th>\n      <th>day</th>\n      <th>dayofyear</th>\n      <th>week</th>\n      <th>weekofyear</th>\n      <th>dayofweek</th>\n      <th>weekday</th>\n      <th>quarter</th>\n      <th>price_na</th>\n      <th>image_top_1_na</th>\n    </tr>\n  </thead>\n  <tbody>\n    <tr>\n      <th>751711</th>\n      <td>348938</td>\n      <td>447528</td>\n      <td>18</td>\n      <td>1301</td>\n      <td>5</td>\n      <td>11</td>\n      <td>110</td>\n      <td>122</td>\n      <td>186</td>\n      <td>261804</td>\n      <td>...</td>\n      <td>3</td>\n      <td>15</td>\n      <td>74</td>\n      <td>11</td>\n      <td>11</td>\n      <td>2</td>\n      <td>2</td>\n      <td>1</td>\n      <td>False</td>\n      <td>False</td>\n    </tr>\n    <tr>\n      <th>889369</th>\n      <td>1175228</td>\n      <td>33441</td>\n      <td>7</td>\n      <td>232</td>\n      <td>1</td>\n      <td>42</td>\n      <td>41</td>\n      <td>262</td>\n      <td>0</td>\n      <td>754605</td>\n      <td>...</td>\n      <td>3</td>\n      <td>15</td>\n      <td>74</td>\n      <td>11</td>\n      <td>11</td>\n      <td>2</td>\n      <td>2</td>\n      <td>1</td>\n      <td>False</td>\n      <td>False</td>\n    </tr>\n    <tr>\n      <th>175952</th>\n      <td>991010</td>\n      <td>446030</td>\n      <td>16</td>\n      <td>729</td>\n      <td>5</td>\n      <td>30</td>\n      <td>126</td>\n      <td>122</td>\n      <td>144</td>\n      <td>562387</td>\n      <td>...</td>\n      <td>3</td>\n      <td>15</td>\n      <td>74</td>\n      <td>11</td>\n      <td>11</td>\n      <td>2</td>\n      <td>2</td>\n      <td>1</td>\n      <td>False</td>\n      <td>False</td>\n    </tr>\n  </tbody>\n</table>\n<p>3 rows × 28 columns</p>\n</div>"
     },
     "metadata": {},
     "output_type": "execute_result",
     "execution_count": 10
    }
   ],
   "source": [
    "df_raw_3,my_table = mydf_preprocessor(df_raw_2,null_table = None)\n",
    "df_raw_3.head(3)\n"
   ],
   "metadata": {
    "collapsed": false,
    "pycharm": {
     "name": "#%%\n",
     "is_executing": false
    }
   }
  },
  {
   "cell_type": "code",
   "execution_count": 12,
   "outputs": [],
   "source": [
    "def split_df(df,num):\n",
    "    return df[ :num].copy(),df[num: ].copy()\n",
    "\n",
    "def my_rmse(y1,y2):\n",
    "    return np.sqrt(((y1-y2)**2).mean())\n",
    "\n",
    "def rsq_n_rmse(my_model,x_train,y_train,x_val,y_val):\n",
    "    result = [my_model.score(x_train,y_train),my_model.score(x_val,y_val),\n",
    "             my_rmse(my_model.predict(x_train),y_train),my_rmse(my_model.predict(x_val),y_val)]\n",
    "    return \"train rsq,val rsq,train rmse, val rmse\", result\n"
   ],
   "metadata": {
    "collapsed": false,
    "pycharm": {
     "name": "#%%\n",
     "is_executing": false
    }
   }
  },
  {
   "cell_type": "code",
   "execution_count": 15,
   "outputs": [],
   "source": [
    "x = df_raw_3.drop('deal_probability', axis=1)\n",
    "y = df_raw_3['deal_probability']\n",
    "x_sub,_ = split_df(x,200000)\n",
    "y_sub,_ = split_df(y,200000)\n",
    "x_trn,x_val = split_df(x_sub,150000)\n",
    "y_trn,y_val = split_df(y_sub,150000)\n"
   ],
   "metadata": {
    "collapsed": false,
    "pycharm": {
     "name": "#%%\n",
     "is_executing": false
    }
   }
  },
  {
   "cell_type": "code",
   "execution_count": 16,
   "outputs": [
    {
     "data": {
      "text/plain": "('train rsq,val rsq,train rmse, val rmse',\n [0.34264465066039573,\n  0.20184065990923938,\n  0.21037536841974203,\n  0.23261379755558956])"
     },
     "metadata": {},
     "output_type": "execute_result",
     "execution_count": 16
    }
   ],
   "source": [
    "mod_1 = RandomForestRegressor(n_jobs = -1,oob_score = False,n_estimators = 50, max_depth = 40000,min_samples_leaf = 25)\n",
    "mod_1.fit(x_trn,y_trn)\n",
    "rsq_n_rmse(mod_1,x_trn,y_trn,x_val,y_val)\n"
   ],
   "metadata": {
    "collapsed": false,
    "pycharm": {
     "name": "#%%\n",
     "is_executing": false
    }
   }
  },
  {
   "cell_type": "code",
   "execution_count": 17,
   "outputs": [
    {
     "data": {
      "text/plain": "        item_id       user_id                 region         city  \\\n0  6544e41a8817  dbe73ad6e4b5  Волгоградская область    Волгоград   \n1  65b9484d670f  2e11806abe57   Свердловская область  Нижняя Тура   \n2  8bab230b2ecd  0b850bbebb10  Новосибирская область       Бердск   \n\n  parent_category_name           category_name                 param_1  \\\n0          Личные вещи  Детская одежда и обувь           Для мальчиков   \n1        Хобби и отдых              Велосипеды                Дорожные   \n2  Бытовая электроника           Аудио и видео  Телевизоры и проекторы   \n\n  param_2 param_3             title  ... image_top_1  year  month day  \\\n0   Обувь      25   Отдам бесплатно  ...      2020.0  2017      4  18   \n1     NaN     NaN  Продам велосипед  ...         NaN  2017      4  16   \n2     NaN     NaN               BBK  ...      2960.0  2017      4  17   \n\n  dayofyear  week  weekofyear  dayofweek  weekday  quarter  \n0       108    16          16          1        1        2  \n1       106    15          15          6        6        2  \n2       107    16          16          0        0        2  \n\n[3 rows x 25 columns]",
      "text/html": "<div>\n<style scoped>\n    .dataframe tbody tr th:only-of-type {\n        vertical-align: middle;\n    }\n\n    .dataframe tbody tr th {\n        vertical-align: top;\n    }\n\n    .dataframe thead th {\n        text-align: right;\n    }\n</style>\n<table border=\"1\" class=\"dataframe\">\n  <thead>\n    <tr style=\"text-align: right;\">\n      <th></th>\n      <th>item_id</th>\n      <th>user_id</th>\n      <th>region</th>\n      <th>city</th>\n      <th>parent_category_name</th>\n      <th>category_name</th>\n      <th>param_1</th>\n      <th>param_2</th>\n      <th>param_3</th>\n      <th>title</th>\n      <th>...</th>\n      <th>image_top_1</th>\n      <th>year</th>\n      <th>month</th>\n      <th>day</th>\n      <th>dayofyear</th>\n      <th>week</th>\n      <th>weekofyear</th>\n      <th>dayofweek</th>\n      <th>weekday</th>\n      <th>quarter</th>\n    </tr>\n  </thead>\n  <tbody>\n    <tr>\n      <th>0</th>\n      <td>6544e41a8817</td>\n      <td>dbe73ad6e4b5</td>\n      <td>Волгоградская область</td>\n      <td>Волгоград</td>\n      <td>Личные вещи</td>\n      <td>Детская одежда и обувь</td>\n      <td>Для мальчиков</td>\n      <td>Обувь</td>\n      <td>25</td>\n      <td>Отдам бесплатно</td>\n      <td>...</td>\n      <td>2020.0</td>\n      <td>2017</td>\n      <td>4</td>\n      <td>18</td>\n      <td>108</td>\n      <td>16</td>\n      <td>16</td>\n      <td>1</td>\n      <td>1</td>\n      <td>2</td>\n    </tr>\n    <tr>\n      <th>1</th>\n      <td>65b9484d670f</td>\n      <td>2e11806abe57</td>\n      <td>Свердловская область</td>\n      <td>Нижняя Тура</td>\n      <td>Хобби и отдых</td>\n      <td>Велосипеды</td>\n      <td>Дорожные</td>\n      <td>NaN</td>\n      <td>NaN</td>\n      <td>Продам велосипед</td>\n      <td>...</td>\n      <td>NaN</td>\n      <td>2017</td>\n      <td>4</td>\n      <td>16</td>\n      <td>106</td>\n      <td>15</td>\n      <td>15</td>\n      <td>6</td>\n      <td>6</td>\n      <td>2</td>\n    </tr>\n    <tr>\n      <th>2</th>\n      <td>8bab230b2ecd</td>\n      <td>0b850bbebb10</td>\n      <td>Новосибирская область</td>\n      <td>Бердск</td>\n      <td>Бытовая электроника</td>\n      <td>Аудио и видео</td>\n      <td>Телевизоры и проекторы</td>\n      <td>NaN</td>\n      <td>NaN</td>\n      <td>BBK</td>\n      <td>...</td>\n      <td>2960.0</td>\n      <td>2017</td>\n      <td>4</td>\n      <td>17</td>\n      <td>107</td>\n      <td>16</td>\n      <td>16</td>\n      <td>0</td>\n      <td>0</td>\n      <td>2</td>\n    </tr>\n  </tbody>\n</table>\n<p>3 rows × 25 columns</p>\n</div>"
     },
     "metadata": {},
     "output_type": "execute_result",
     "execution_count": 17
    }
   ],
   "source": [
    "test_raw = pd.read_csv(f'{path}/test.csv',parse_dates = [\"activation_date\"])\n",
    "test_raw_1 = split_dates(test_raw,\"activation_date\")\n",
    "test_raw_2 = str_to_cat(test_raw_1)\n",
    "test_raw_2.head(3)\n"
   ],
   "metadata": {
    "collapsed": false,
    "pycharm": {
     "name": "#%%\n",
     "is_executing": false
    }
   }
  },
  {
   "cell_type": "code",
   "execution_count": 18,
   "outputs": [
    {
     "name": "stdout",
     "text": [
      "[0.13608164 0.250482   0.14887222 ... 0.05443806 0.28518139 0.09810532]\n"
     ],
     "output_type": "stream"
    }
   ],
   "source": [
    "test_raw_3,my_table_1 = mydf_preprocessor(test_raw_2,null_table = my_table)\n",
    "y_test_pred = mod_1.predict(test_raw_3)\n",
    "print(y_test_pred)"
   ],
   "metadata": {
    "collapsed": false,
    "pycharm": {
     "name": "#%%\n",
     "is_executing": false
    }
   }
  }
 ],
 "metadata": {
  "language_info": {
   "codemirror_mode": {
    "name": "ipython",
    "version": 2
   },
   "file_extension": ".py",
   "mimetype": "text/x-python",
   "name": "python",
   "nbconvert_exporter": "python",
   "pygments_lexer": "ipython2",
   "version": "2.7.6"
  },
  "kernelspec": {
   "name": "python3",
   "language": "python",
   "display_name": "Python 3"
  },
  "pycharm": {
   "stem_cell": {
    "cell_type": "raw",
    "source": [],
    "metadata": {
     "collapsed": false
    }
   }
  }
 },
 "nbformat": 4,
 "nbformat_minor": 0
}