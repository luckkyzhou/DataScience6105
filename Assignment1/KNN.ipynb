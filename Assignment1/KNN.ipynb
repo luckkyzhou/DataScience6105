{
 "cells": [
  {
   "cell_type": "code",
   "execution_count": 4,
   "metadata": {
    "collapsed": true,
    "pycharm": {
     "is_executing": false
    }
   },
   "outputs": [],
   "source": [
    "import pandas as pd\n",
    "from sklearn.neighbors import KNeighborsClassifier,KNeighborsRegressor\n",
    "from sklearn.metrics import confusion_matrix,accuracy_score\n",
    "from sklearn.metrics import classification_report,roc_curve,roc_auc_score\n",
    "from matplotlib import pyplot as plt\n",
    "import seaborn as sns\n",
    "from sklearn.model_selection import GridSearchCV\n",
    "%matplotlib inline\n"
   ]
  },
  {
   "cell_type": "code",
   "execution_count": 5,
   "outputs": [
    {
     "name": "stdout",
     "text": [
      "(1100, 13)\n(209, 13)\n"
     ],
     "output_type": "stream"
    }
   ],
   "source": [
    "%pwd\n",
    "path = 'D:\\\\Python\\\\DataScience\\\\DataScience6105\\\\Module5'\n",
    "trn_df = pd.read_csv(f'{path}/titanic_trn_4_ml.csv')\n",
    "test_df = pd.read_csv(f'{path}/titanic_test_4_ml.csv')\n",
    "print(trn_df.shape)\n",
    "print(test_df.shape)\n"
   ],
   "metadata": {
    "collapsed": false,
    "pycharm": {
     "name": "#%%\n",
     "is_executing": false
    }
   }
  },
  {
   "cell_type": "code",
   "execution_count": 10,
   "outputs": [
    {
     "name": "stdout",
     "text": [
      "Wall time: 0 ns\nFitting 3 folds for each of 90 candidates, totalling 270 fits\n[CV] n_neighbors=1, weights=uniform ..................................\n[CV] ................... n_neighbors=1, weights=uniform, total=   0.0s\n[CV] n_neighbors=1, weights=uniform ..................................\n[CV] ................... n_neighbors=1, weights=uniform, total=   0.0s\n[CV] n_neighbors=1, weights=uniform ..................................\n[CV] ................... n_neighbors=1, weights=uniform, total=   0.0s\n[CV] n_neighbors=2, weights=uniform ..................................\n[CV] ................... n_neighbors=2, weights=uniform, total=   0.0s\n[CV] n_neighbors=2, weights=uniform ..................................\n[CV] ................... n_neighbors=2, weights=uniform, total=   0.0s\n[CV] n_neighbors=2, weights=uniform ..................................\n[CV] ................... n_neighbors=2, weights=uniform, total=   0.0s\n[CV] n_neighbors=3, weights=uniform ..................................\n[CV] ................... n_neighbors=3, weights=uniform, total=   0.0s\n[CV] n_neighbors=3, weights=uniform ..................................\n[CV] ................... n_neighbors=3, weights=uniform, total=   0.0s\n[CV] n_neighbors=3, weights=uniform ..................................\n[CV] ................... n_neighbors=3, weights=uniform, total=   0.0s\n[CV] n_neighbors=4, weights=uniform ..................................\n",
      "[CV] ................... n_neighbors=4, weights=uniform, total=   0.0s\n[CV] n_neighbors=4, weights=uniform ..................................\n[CV] ................... n_neighbors=4, weights=uniform, total=   0.0s\n[CV] n_neighbors=4, weights=uniform ..................................\n[CV] ................... n_neighbors=4, weights=uniform, total=   0.0s\n[CV] n_neighbors=5, weights=uniform ..................................\n[CV] ................... n_neighbors=5, weights=uniform, total=   0.0s\n[CV] n_neighbors=5, weights=uniform ..................................\n[CV] ................... n_neighbors=5, weights=uniform, total=   0.0s\n[CV] n_neighbors=5, weights=uniform ..................................\n[CV] ................... n_neighbors=5, weights=uniform, total=   0.0s\n[CV] n_neighbors=6, weights=uniform ..................................\n[CV] ................... n_neighbors=6, weights=uniform, total=   0.0s\n[CV] n_neighbors=6, weights=uniform ..................................\n[CV] ................... n_neighbors=6, weights=uniform, total=   0.0s\n[CV] n_neighbors=6, weights=uniform ..................................\n[CV] ................... n_neighbors=6, weights=uniform, total=   0.0s\n[CV] n_neighbors=7, weights=uniform ..................................\n[CV] ................... n_neighbors=7, weights=uniform, total=   0.0s\n[CV] n_neighbors=7, weights=uniform ..................................\n",
      "[CV] ................... n_neighbors=7, weights=uniform, total=   0.0s\n[CV] n_neighbors=7, weights=uniform ..................................\n[CV] ................... n_neighbors=7, weights=uniform, total=   0.0s\n[CV] n_neighbors=8, weights=uniform ..................................\n[CV] ................... n_neighbors=8, weights=uniform, total=   0.0s\n[CV] n_neighbors=8, weights=uniform ..................................\n[CV] ................... n_neighbors=8, weights=uniform, total=   0.0s\n[CV] n_neighbors=8, weights=uniform ..................................\n[CV] ................... n_neighbors=8, weights=uniform, total=   0.0s\n[CV] n_neighbors=9, weights=uniform ..................................\n[CV] ................... n_neighbors=9, weights=uniform, total=   0.0s\n[CV] n_neighbors=9, weights=uniform ..................................\n[CV] ................... n_neighbors=9, weights=uniform, total=   0.0s\n[CV] n_neighbors=9, weights=uniform ..................................\n[CV] ................... n_neighbors=9, weights=uniform, total=   0.0s\n[CV] n_neighbors=10, weights=uniform .................................\n[CV] .................. n_neighbors=10, weights=uniform, total=   0.0s\n[CV] n_neighbors=10, weights=uniform .................................\n[CV] .................. n_neighbors=10, weights=uniform, total=   0.0s\n[CV] n_neighbors=10, weights=uniform .................................\n",
      "[CV] .................. n_neighbors=10, weights=uniform, total=   0.0s\n[CV] n_neighbors=11, weights=uniform .................................\n[CV] .................. n_neighbors=11, weights=uniform, total=   0.0s\n[CV] n_neighbors=11, weights=uniform .................................\n[CV] .................. n_neighbors=11, weights=uniform, total=   0.0s\n[CV] n_neighbors=11, weights=uniform .................................\n[CV] .................. n_neighbors=11, weights=uniform, total=   0.0s\n[CV] n_neighbors=12, weights=uniform .................................\n[CV] .................. n_neighbors=12, weights=uniform, total=   0.0s\n[CV] n_neighbors=12, weights=uniform .................................\n[CV] .................. n_neighbors=12, weights=uniform, total=   0.0s\n[CV] n_neighbors=12, weights=uniform .................................\n[CV] .................. n_neighbors=12, weights=uniform, total=   0.0s\n[CV] n_neighbors=13, weights=uniform .................................\n[CV] .................. n_neighbors=13, weights=uniform, total=   0.0s\n[CV] n_neighbors=13, weights=uniform .................................\n[CV] .................. n_neighbors=13, weights=uniform, total=   0.0s\n[CV] n_neighbors=13, weights=uniform .................................\n[CV] .................. n_neighbors=13, weights=uniform, total=   0.0s\n[CV] n_neighbors=14, weights=uniform .................................\n",
      "[CV] .................. n_neighbors=14, weights=uniform, total=   0.0s\n[CV] n_neighbors=14, weights=uniform .................................\n[CV] .................. n_neighbors=14, weights=uniform, total=   0.0s\n[CV] n_neighbors=14, weights=uniform .................................\n[CV] .................. n_neighbors=14, weights=uniform, total=   0.0s\n[CV] n_neighbors=15, weights=uniform .................................\n[CV] .................. n_neighbors=15, weights=uniform, total=   0.0s\n[CV] n_neighbors=15, weights=uniform .................................\n[CV] .................. n_neighbors=15, weights=uniform, total=   0.0s\n[CV] n_neighbors=15, weights=uniform .................................\n[CV] .................. n_neighbors=15, weights=uniform, total=   0.0s",
      "\n[CV] n_neighbors=1, p=1, weights=distance ............................\n[CV] ............. n_neighbors=1, p=1, weights=distance, total=   0.0s\n[CV] n_neighbors=1, p=1, weights=distance ............................\n[CV] ............. n_neighbors=1, p=1, weights=distance, total=   0.0s\n[CV] n_neighbors=1, p=1, weights=distance ............................\n[CV] ............. n_neighbors=1, p=1, weights=distance, total=   0.0s\n[CV] n_neighbors=1, p=2, weights=distance ............................\n[CV] ............. n_neighbors=1, p=2, weights=distance, total=   0.0s\n[CV] n_neighbors=1, p=2, weights=distance ............................\n[CV] ............. n_neighbors=1, p=2, weights=distance, total=   0.0s\n[CV] n_neighbors=1, p=2, weights=distance ............................\n[CV] ............. n_neighbors=1, p=2, weights=distance, total=   0.0s\n[CV] n_neighbors=1, p=3, weights=distance ............................\n[CV] ............. n_neighbors=1, p=3, weights=distance, total=   0.0s\n[CV] n_neighbors=1, p=3, weights=distance ............................\n[CV] ............. n_neighbors=1, p=3, weights=distance, total=   0.0s\n[CV] n_neighbors=1, p=3, weights=distance ............................\n[CV] ............. n_neighbors=1, p=3, weights=distance, total=   0.0s\n[CV] n_neighbors=1, p=4, weights=distance ............................\n[CV] ............. n_neighbors=1, p=4, weights=distance, total=   0.0s\n[CV] n_neighbors=1, p=4, weights=distance ............................\n[CV] ............. n_neighbors=1, p=4, weights=distance, total=   0.0s",
      "\n[CV] n_neighbors=1, p=4, weights=distance ............................\n[CV] ............. n_neighbors=1, p=4, weights=distance, total=   0.0s\n[CV] n_neighbors=1, p=5, weights=distance ............................\n[CV] ............. n_neighbors=1, p=5, weights=distance, total=   0.0s\n[CV] n_neighbors=1, p=5, weights=distance ............................\n[CV] ............. n_neighbors=1, p=5, weights=distance, total=   0.0s\n[CV] n_neighbors=1, p=5, weights=distance ............................\n[CV] ............. n_neighbors=1, p=5, weights=distance, total=   0.0s\n[CV] n_neighbors=2, p=1, weights=distance ............................\n[CV] ............. n_neighbors=2, p=1, weights=distance, total=   0.0s\n[CV] n_neighbors=2, p=1, weights=distance ............................\n[CV] ............. n_neighbors=2, p=1, weights=distance, total=   0.0s",
      "\n[CV] n_neighbors=2, p=1, weights=distance ............................\n[CV] ............. n_neighbors=2, p=1, weights=distance, total=   0.0s\n[CV] n_neighbors=2, p=2, weights=distance ............................\n[CV] ............. n_neighbors=2, p=2, weights=distance, total=   0.0s\n[CV] n_neighbors=2, p=2, weights=distance ............................\n[CV] ............. n_neighbors=2, p=2, weights=distance, total=   0.0s\n[CV] n_neighbors=2, p=2, weights=distance ............................\n[CV] ............. n_neighbors=2, p=2, weights=distance, total=   0.0s\n[CV] n_neighbors=2, p=3, weights=distance ............................\n[CV] ............. n_neighbors=2, p=3, weights=distance, total=   0.0s\n[CV] n_neighbors=2, p=3, weights=distance ............................\n[CV] ............. n_neighbors=2, p=3, weights=distance, total=   0.0s\n[CV] n_neighbors=2, p=3, weights=distance ............................\n[CV] ............. n_neighbors=2, p=3, weights=distance, total=   0.0s\n[CV] n_neighbors=2, p=4, weights=distance ............................\n[CV] ............. n_neighbors=2, p=4, weights=distance, total=   0.0s\n[CV] n_neighbors=2, p=4, weights=distance ............................\n",
      "[CV] ............. n_neighbors=2, p=4, weights=distance, total=   0.0s\n[CV] n_neighbors=2, p=4, weights=distance ............................\n[CV] ............. n_neighbors=2, p=4, weights=distance, total=   0.0s\n[CV] n_neighbors=2, p=5, weights=distance ............................\n[CV] ............. n_neighbors=2, p=5, weights=distance, total=   0.0s\n[CV] n_neighbors=2, p=5, weights=distance ............................\n[CV] ............. n_neighbors=2, p=5, weights=distance, total=   0.0s\n[CV] n_neighbors=2, p=5, weights=distance ............................\n[CV] ............. n_neighbors=2, p=5, weights=distance, total=   0.0s\n[CV] n_neighbors=3, p=1, weights=distance ............................\n[CV] ............. n_neighbors=3, p=1, weights=distance, total=   0.0s\n[CV] n_neighbors=3, p=1, weights=distance ............................\n[CV] ............. n_neighbors=3, p=1, weights=distance, total=   0.0s",
      "\n[CV] n_neighbors=3, p=1, weights=distance ............................\n[CV] ............. n_neighbors=3, p=1, weights=distance, total=   0.0s\n[CV] n_neighbors=3, p=2, weights=distance ............................\n[CV] ............. n_neighbors=3, p=2, weights=distance, total=   0.0s\n[CV] n_neighbors=3, p=2, weights=distance ............................\n[CV] ............. n_neighbors=3, p=2, weights=distance, total=   0.0s\n[CV] n_neighbors=3, p=2, weights=distance ............................\n[CV] ............. n_neighbors=3, p=2, weights=distance, total=   0.0s\n[CV] n_neighbors=3, p=3, weights=distance ............................\n[CV] ............. n_neighbors=3, p=3, weights=distance, total=   0.0s\n[CV] n_neighbors=3, p=3, weights=distance ............................\n[CV] ............. n_neighbors=3, p=3, weights=distance, total=   0.0s\n[CV] n_neighbors=3, p=3, weights=distance ............................\n[CV] ............. n_neighbors=3, p=3, weights=distance, total=   0.0s\n[CV] n_neighbors=3, p=4, weights=distance ............................\n[CV] ............. n_neighbors=3, p=4, weights=distance, total=   0.0s",
      "\n[CV] n_neighbors=3, p=4, weights=distance ............................\n[CV] ............. n_neighbors=3, p=4, weights=distance, total=   0.1s\n[CV] n_neighbors=3, p=4, weights=distance ............................\n[CV] ............. n_neighbors=3, p=4, weights=distance, total=   0.0s\n[CV] n_neighbors=3, p=5, weights=distance ............................\n[CV] ............. n_neighbors=3, p=5, weights=distance, total=   0.0s\n[CV] n_neighbors=3, p=5, weights=distance ............................\n[CV] ............. n_neighbors=3, p=5, weights=distance, total=   0.0s",
      "\n[CV] n_neighbors=3, p=5, weights=distance ............................\n[CV] ............. n_neighbors=3, p=5, weights=distance, total=   0.0s\n[CV] n_neighbors=4, p=1, weights=distance ............................\n[CV] ............. n_neighbors=4, p=1, weights=distance, total=   0.0s\n[CV] n_neighbors=4, p=1, weights=distance ............................\n[CV] ............. n_neighbors=4, p=1, weights=distance, total=   0.0s\n[CV] n_neighbors=4, p=1, weights=distance ............................\n[CV] ............. n_neighbors=4, p=1, weights=distance, total=   0.0s\n[CV] n_neighbors=4, p=2, weights=distance ............................\n[CV] ............. n_neighbors=4, p=2, weights=distance, total=   0.0s\n[CV] n_neighbors=4, p=2, weights=distance ............................\n[CV] ............. n_neighbors=4, p=2, weights=distance, total=   0.0s\n[CV] n_neighbors=4, p=2, weights=distance ............................\n[CV] ............. n_neighbors=4, p=2, weights=distance, total=   0.0s\n[CV] n_neighbors=4, p=3, weights=distance ............................\n[CV] ............. n_neighbors=4, p=3, weights=distance, total=   0.0s\n[CV] n_neighbors=4, p=3, weights=distance ............................\n[CV] ............. n_neighbors=4, p=3, weights=distance, total=   0.0s\n[CV] n_neighbors=4, p=3, weights=distance ............................\n[CV] ............. n_neighbors=4, p=3, weights=distance, total=   0.0s\n[CV] n_neighbors=4, p=4, weights=distance ............................\n[CV] ............. n_neighbors=4, p=4, weights=distance, total=   0.0s",
      "\n[CV] n_neighbors=4, p=4, weights=distance ............................\n[CV] ............. n_neighbors=4, p=4, weights=distance, total=   0.0s\n[CV] n_neighbors=4, p=4, weights=distance ............................\n[CV] ............. n_neighbors=4, p=4, weights=distance, total=   0.0s\n[CV] n_neighbors=4, p=5, weights=distance ............................\n[CV] ............. n_neighbors=4, p=5, weights=distance, total=   0.0s\n[CV] n_neighbors=4, p=5, weights=distance ............................\n[CV] ............. n_neighbors=4, p=5, weights=distance, total=   0.0s\n[CV] n_neighbors=4, p=5, weights=distance ............................\n[CV] ............. n_neighbors=4, p=5, weights=distance, total=   0.0s\n[CV] n_neighbors=5, p=1, weights=distance ............................\n[CV] ............. n_neighbors=5, p=1, weights=distance, total=   0.0s\n[CV] n_neighbors=5, p=1, weights=distance ............................\n[CV] ............. n_neighbors=5, p=1, weights=distance, total=   0.0s\n[CV] n_neighbors=5, p=1, weights=distance ............................\n[CV] ............. n_neighbors=5, p=1, weights=distance, total=   0.0s\n[CV] n_neighbors=5, p=2, weights=distance ............................\n[CV] ............. n_neighbors=5, p=2, weights=distance, total=   0.0s",
      "\n[CV] n_neighbors=5, p=2, weights=distance ............................\n[CV] ............. n_neighbors=5, p=2, weights=distance, total=   0.0s\n[CV] n_neighbors=5, p=2, weights=distance ............................\n[CV] ............. n_neighbors=5, p=2, weights=distance, total=   0.0s\n[CV] n_neighbors=5, p=3, weights=distance ............................\n[CV] ............. n_neighbors=5, p=3, weights=distance, total=   0.0s\n[CV] n_neighbors=5, p=3, weights=distance ............................\n[CV] ............. n_neighbors=5, p=3, weights=distance, total=   0.0s\n[CV] n_neighbors=5, p=3, weights=distance ............................\n[CV] ............. n_neighbors=5, p=3, weights=distance, total=   0.0s\n[CV] n_neighbors=5, p=4, weights=distance ............................\n[CV] ............. n_neighbors=5, p=4, weights=distance, total=   0.0s\n[CV] n_neighbors=5, p=4, weights=distance ............................\n[CV] ............. n_neighbors=5, p=4, weights=distance, total=   0.0s\n[CV] n_neighbors=5, p=4, weights=distance ............................\n[CV] ............. n_neighbors=5, p=4, weights=distance, total=   0.0s",
      "\n[CV] n_neighbors=5, p=5, weights=distance ............................\n[CV] ............. n_neighbors=5, p=5, weights=distance, total=   0.0s\n[CV] n_neighbors=5, p=5, weights=distance ............................\n[CV] ............. n_neighbors=5, p=5, weights=distance, total=   0.0s\n[CV] n_neighbors=5, p=5, weights=distance ............................\n[CV] ............. n_neighbors=5, p=5, weights=distance, total=   0.0s\n[CV] n_neighbors=6, p=1, weights=distance ............................\n[CV] ............. n_neighbors=6, p=1, weights=distance, total=   0.0s\n[CV] n_neighbors=6, p=1, weights=distance ............................\n[CV] ............. n_neighbors=6, p=1, weights=distance, total=   0.0s\n[CV] n_neighbors=6, p=1, weights=distance ............................\n[CV] ............. n_neighbors=6, p=1, weights=distance, total=   0.0s\n[CV] n_neighbors=6, p=2, weights=distance ............................\n[CV] ............. n_neighbors=6, p=2, weights=distance, total=   0.0s\n[CV] n_neighbors=6, p=2, weights=distance ............................\n[CV] ............. n_neighbors=6, p=2, weights=distance, total=   0.0s\n[CV] n_neighbors=6, p=2, weights=distance ............................\n[CV] ............. n_neighbors=6, p=2, weights=distance, total=   0.0s\n[CV] n_neighbors=6, p=3, weights=distance ............................\n[CV] ............. n_neighbors=6, p=3, weights=distance, total=   0.0s\n[CV] n_neighbors=6, p=3, weights=distance ............................\n",
      "[CV] ............. n_neighbors=6, p=3, weights=distance, total=   0.0s\n[CV] n_neighbors=6, p=3, weights=distance ............................\n[CV] ............. n_neighbors=6, p=3, weights=distance, total=   0.0s\n[CV] n_neighbors=6, p=4, weights=distance ............................\n[CV] ............. n_neighbors=6, p=4, weights=distance, total=   0.0s\n[CV] n_neighbors=6, p=4, weights=distance ............................\n[CV] ............. n_neighbors=6, p=4, weights=distance, total=   0.0s\n[CV] n_neighbors=6, p=4, weights=distance ............................\n[CV] ............. n_neighbors=6, p=4, weights=distance, total=   0.0s\n[CV] n_neighbors=6, p=5, weights=distance ............................\n[CV] ............. n_neighbors=6, p=5, weights=distance, total=   0.0s\n[CV] n_neighbors=6, p=5, weights=distance ............................\n[CV] ............. n_neighbors=6, p=5, weights=distance, total=   0.0s\n[CV] n_neighbors=6, p=5, weights=distance ............................\n[CV] ............. n_neighbors=6, p=5, weights=distance, total=   0.0s\n[CV] n_neighbors=7, p=1, weights=distance ............................\n",
      "[CV] ............. n_neighbors=7, p=1, weights=distance, total=   0.0s\n[CV] n_neighbors=7, p=1, weights=distance ............................\n[CV] ............. n_neighbors=7, p=1, weights=distance, total=   0.0s\n[CV] n_neighbors=7, p=1, weights=distance ............................\n[CV] ............. n_neighbors=7, p=1, weights=distance, total=   0.0s\n[CV] n_neighbors=7, p=2, weights=distance ............................\n[CV] ............. n_neighbors=7, p=2, weights=distance, total=   0.0s\n[CV] n_neighbors=7, p=2, weights=distance ............................\n[CV] ............. n_neighbors=7, p=2, weights=distance, total=   0.0s\n[CV] n_neighbors=7, p=2, weights=distance ............................\n[CV] ............. n_neighbors=7, p=2, weights=distance, total=   0.0s\n[CV] n_neighbors=7, p=3, weights=distance ............................\n[CV] ............. n_neighbors=7, p=3, weights=distance, total=   0.0s\n[CV] n_neighbors=7, p=3, weights=distance ............................\n[CV] ............. n_neighbors=7, p=3, weights=distance, total=   0.0s\n[CV] n_neighbors=7, p=3, weights=distance ............................\n[CV] ............. n_neighbors=7, p=3, weights=distance, total=   0.0s\n[CV] n_neighbors=7, p=4, weights=distance ............................\n[CV] ............. n_neighbors=7, p=4, weights=distance, total=   0.0s\n[CV] n_neighbors=7, p=4, weights=distance ............................\n",
      "[CV] ............. n_neighbors=7, p=4, weights=distance, total=   0.0s\n[CV] n_neighbors=7, p=4, weights=distance ............................\n[CV] ............. n_neighbors=7, p=4, weights=distance, total=   0.0s\n[CV] n_neighbors=7, p=5, weights=distance ............................\n[CV] ............. n_neighbors=7, p=5, weights=distance, total=   0.0s\n[CV] n_neighbors=7, p=5, weights=distance ............................\n[CV] ............. n_neighbors=7, p=5, weights=distance, total=   0.0s\n[CV] n_neighbors=7, p=5, weights=distance ............................\n[CV] ............. n_neighbors=7, p=5, weights=distance, total=   0.0s\n[CV] n_neighbors=8, p=1, weights=distance ............................\n[CV] ............. n_neighbors=8, p=1, weights=distance, total=   0.0s\n[CV] n_neighbors=8, p=1, weights=distance ............................\n[CV] ............. n_neighbors=8, p=1, weights=distance, total=   0.0s\n[CV] n_neighbors=8, p=1, weights=distance ............................\n[CV] ............. n_neighbors=8, p=1, weights=distance, total=   0.0s\n[CV] n_neighbors=8, p=2, weights=distance ............................\n[CV] ............. n_neighbors=8, p=2, weights=distance, total=   0.0s\n[CV] n_neighbors=8, p=2, weights=distance ............................\n[CV] ............. n_neighbors=8, p=2, weights=distance, total=   0.0s\n[CV] n_neighbors=8, p=2, weights=distance ............................\n[CV] ............. n_neighbors=8, p=2, weights=distance, total=   0.0s\n[CV] n_neighbors=8, p=3, weights=distance ............................",
      "\n[CV] ............. n_neighbors=8, p=3, weights=distance, total=   0.0s\n[CV] n_neighbors=8, p=3, weights=distance ............................\n[CV] ............. n_neighbors=8, p=3, weights=distance, total=   0.0s\n[CV] n_neighbors=8, p=3, weights=distance ............................\n[CV] ............. n_neighbors=8, p=3, weights=distance, total=   0.0s\n[CV] n_neighbors=8, p=4, weights=distance ............................\n[CV] ............. n_neighbors=8, p=4, weights=distance, total=   0.0s\n[CV] n_neighbors=8, p=4, weights=distance ............................\n[CV] ............. n_neighbors=8, p=4, weights=distance, total=   0.0s\n[CV] n_neighbors=8, p=4, weights=distance ............................\n[CV] ............. n_neighbors=8, p=4, weights=distance, total=   0.0s\n[CV] n_neighbors=8, p=5, weights=distance ............................\n",
      "[CV] ............. n_neighbors=8, p=5, weights=distance, total=   0.0s\n[CV] n_neighbors=8, p=5, weights=distance ............................\n[CV] ............. n_neighbors=8, p=5, weights=distance, total=   0.0s\n[CV] n_neighbors=8, p=5, weights=distance ............................\n[CV] ............. n_neighbors=8, p=5, weights=distance, total=   0.0s\n[CV] n_neighbors=9, p=1, weights=distance ............................\n[CV] ............. n_neighbors=9, p=1, weights=distance, total=   0.0s\n[CV] n_neighbors=9, p=1, weights=distance ............................\n[CV] ............. n_neighbors=9, p=1, weights=distance, total=   0.0s\n[CV] n_neighbors=9, p=1, weights=distance ............................\n[CV] ............. n_neighbors=9, p=1, weights=distance, total=   0.0s\n[CV] n_neighbors=9, p=2, weights=distance ............................\n[CV] ............. n_neighbors=9, p=2, weights=distance, total=   0.0s\n[CV] n_neighbors=9, p=2, weights=distance ............................\n[CV] ............. n_neighbors=9, p=2, weights=distance, total=   0.0s\n[CV] n_neighbors=9, p=2, weights=distance ............................\n[CV] ............. n_neighbors=9, p=2, weights=distance, total=   0.0s\n[CV] n_neighbors=9, p=3, weights=distance ............................\n[CV] ............. n_neighbors=9, p=3, weights=distance, total=   0.0s\n[CV] n_neighbors=9, p=3, weights=distance ............................\n[CV] ............. n_neighbors=9, p=3, weights=distance, total=   0.0s\n[CV] n_neighbors=9, p=3, weights=distance ............................\n",
      "[CV] ............. n_neighbors=9, p=3, weights=distance, total=   0.0s\n[CV] n_neighbors=9, p=4, weights=distance ............................\n[CV] ............. n_neighbors=9, p=4, weights=distance, total=   0.0s\n[CV] n_neighbors=9, p=4, weights=distance ............................\n[CV] ............. n_neighbors=9, p=4, weights=distance, total=   0.0s\n[CV] n_neighbors=9, p=4, weights=distance ............................\n[CV] ............. n_neighbors=9, p=4, weights=distance, total=   0.0s\n[CV] n_neighbors=9, p=5, weights=distance ............................\n[CV] ............. n_neighbors=9, p=5, weights=distance, total=   0.0s\n[CV] n_neighbors=9, p=5, weights=distance ............................\n[CV] ............. n_neighbors=9, p=5, weights=distance, total=   0.0s\n[CV] n_neighbors=9, p=5, weights=distance ............................\n[CV] ............. n_neighbors=9, p=5, weights=distance, total=   0.0s\n[CV] n_neighbors=10, p=1, weights=distance ...........................\n",
      "[CV] ............ n_neighbors=10, p=1, weights=distance, total=   0.0s\n[CV] n_neighbors=10, p=1, weights=distance ...........................\n[CV] ............ n_neighbors=10, p=1, weights=distance, total=   0.0s\n[CV] n_neighbors=10, p=1, weights=distance ...........................\n[CV] ............ n_neighbors=10, p=1, weights=distance, total=   0.0s\n[CV] n_neighbors=10, p=2, weights=distance ...........................\n[CV] ............ n_neighbors=10, p=2, weights=distance, total=   0.0s\n[CV] n_neighbors=10, p=2, weights=distance ...........................\n[CV] ............ n_neighbors=10, p=2, weights=distance, total=   0.0s\n[CV] n_neighbors=10, p=2, weights=distance ...........................\n[CV] ............ n_neighbors=10, p=2, weights=distance, total=   0.0s\n[CV] n_neighbors=10, p=3, weights=distance ...........................\n[CV] ............ n_neighbors=10, p=3, weights=distance, total=   0.0s\n[CV] n_neighbors=10, p=3, weights=distance ...........................\n[CV] ............ n_neighbors=10, p=3, weights=distance, total=   0.0s\n[CV] n_neighbors=10, p=3, weights=distance ...........................\n[CV] ............ n_neighbors=10, p=3, weights=distance, total=   0.0s\n[CV] n_neighbors=10, p=4, weights=distance ...........................\n[CV] ............ n_neighbors=10, p=4, weights=distance, total=   0.0s",
      "\n[CV] n_neighbors=10, p=4, weights=distance ...........................\n[CV] ............ n_neighbors=10, p=4, weights=distance, total=   0.1s\n[CV] n_neighbors=10, p=4, weights=distance ...........................\n[CV] ............ n_neighbors=10, p=4, weights=distance, total=   0.0s\n[CV] n_neighbors=10, p=5, weights=distance ...........................\n[CV] ............ n_neighbors=10, p=5, weights=distance, total=   0.0s\n[CV] n_neighbors=10, p=5, weights=distance ...........................\n[CV] ............ n_neighbors=10, p=5, weights=distance, total=   0.0s\n[CV] n_neighbors=10, p=5, weights=distance ...........................\n[CV] ............ n_neighbors=10, p=5, weights=distance, total=   0.0s\n[CV] n_neighbors=11, p=1, weights=distance ...........................\n",
      "[CV] ............ n_neighbors=11, p=1, weights=distance, total=   0.0s\n[CV] n_neighbors=11, p=1, weights=distance ...........................\n[CV] ............ n_neighbors=11, p=1, weights=distance, total=   0.0s\n[CV] n_neighbors=11, p=1, weights=distance ...........................\n[CV] ............ n_neighbors=11, p=1, weights=distance, total=   0.0s\n[CV] n_neighbors=11, p=2, weights=distance ...........................\n[CV] ............ n_neighbors=11, p=2, weights=distance, total=   0.0s\n[CV] n_neighbors=11, p=2, weights=distance ...........................\n[CV] ............ n_neighbors=11, p=2, weights=distance, total=   0.0s\n[CV] n_neighbors=11, p=2, weights=distance ...........................\n[CV] ............ n_neighbors=11, p=2, weights=distance, total=   0.0s\n[CV] n_neighbors=11, p=3, weights=distance ...........................\n[CV] ............ n_neighbors=11, p=3, weights=distance, total=   0.0s\n[CV] n_neighbors=11, p=3, weights=distance ...........................\n[CV] ............ n_neighbors=11, p=3, weights=distance, total=   0.0s\n[CV] n_neighbors=11, p=3, weights=distance ...........................\n[CV] ............ n_neighbors=11, p=3, weights=distance, total=   0.0s\n[CV] n_neighbors=11, p=4, weights=distance ...........................\n[CV] ............ n_neighbors=11, p=4, weights=distance, total=   0.0s\n[CV] n_neighbors=11, p=4, weights=distance ...........................\n",
      "[CV] ............ n_neighbors=11, p=4, weights=distance, total=   0.0s\n[CV] n_neighbors=11, p=4, weights=distance ...........................\n[CV] ............ n_neighbors=11, p=4, weights=distance, total=   0.0s\n[CV] n_neighbors=11, p=5, weights=distance ...........................\n[CV] ............ n_neighbors=11, p=5, weights=distance, total=   0.0s\n[CV] n_neighbors=11, p=5, weights=distance ...........................\n[CV] ............ n_neighbors=11, p=5, weights=distance, total=   0.0s\n[CV] n_neighbors=11, p=5, weights=distance ...........................\n[CV] ............ n_neighbors=11, p=5, weights=distance, total=   0.0s\n[CV] n_neighbors=12, p=1, weights=distance ...........................\n[CV] ............ n_neighbors=12, p=1, weights=distance, total=   0.0s\n[CV] n_neighbors=12, p=1, weights=distance ...........................\n[CV] ............ n_neighbors=12, p=1, weights=distance, total=   0.0s\n[CV] n_neighbors=12, p=1, weights=distance ...........................\n[CV] ............ n_neighbors=12, p=1, weights=distance, total=   0.0s\n[CV] n_neighbors=12, p=2, weights=distance ...........................\n",
      "[CV] ............ n_neighbors=12, p=2, weights=distance, total=   0.0s\n[CV] n_neighbors=12, p=2, weights=distance ...........................\n[CV] ............ n_neighbors=12, p=2, weights=distance, total=   0.0s\n[CV] n_neighbors=12, p=2, weights=distance ...........................\n[CV] ............ n_neighbors=12, p=2, weights=distance, total=   0.0s\n[CV] n_neighbors=12, p=3, weights=distance ...........................\n[CV] ............ n_neighbors=12, p=3, weights=distance, total=   0.0s\n[CV] n_neighbors=12, p=3, weights=distance ...........................\n[CV] ............ n_neighbors=12, p=3, weights=distance, total=   0.0s\n[CV] n_neighbors=12, p=3, weights=distance ...........................\n[CV] ............ n_neighbors=12, p=3, weights=distance, total=   0.0s\n[CV] n_neighbors=12, p=4, weights=distance ...........................\n[CV] ............ n_neighbors=12, p=4, weights=distance, total=   0.0s\n[CV] n_neighbors=12, p=4, weights=distance ...........................\n[CV] ............ n_neighbors=12, p=4, weights=distance, total=   0.0s\n[CV] n_neighbors=12, p=4, weights=distance ...........................\n[CV] ............ n_neighbors=12, p=4, weights=distance, total=   0.0s",
      "\n[CV] n_neighbors=12, p=5, weights=distance ...........................\n[CV] ............ n_neighbors=12, p=5, weights=distance, total=   0.0s\n[CV] n_neighbors=12, p=5, weights=distance ...........................\n[CV] ............ n_neighbors=12, p=5, weights=distance, total=   0.0s\n[CV] n_neighbors=12, p=5, weights=distance ...........................\n[CV] ............ n_neighbors=12, p=5, weights=distance, total=   0.0s\n[CV] n_neighbors=13, p=1, weights=distance ...........................\n[CV] ............ n_neighbors=13, p=1, weights=distance, total=   0.0s\n[CV] n_neighbors=13, p=1, weights=distance ...........................\n[CV] ............ n_neighbors=13, p=1, weights=distance, total=   0.0s\n[CV] n_neighbors=13, p=1, weights=distance ...........................\n[CV] ............ n_neighbors=13, p=1, weights=distance, total=   0.0s\n[CV] n_neighbors=13, p=2, weights=distance ...........................\n[CV] ............ n_neighbors=13, p=2, weights=distance, total=   0.0s\n[CV] n_neighbors=13, p=2, weights=distance ...........................\n[CV] ............ n_neighbors=13, p=2, weights=distance, total=   0.0s\n[CV] n_neighbors=13, p=2, weights=distance ...........................\n[CV] ............ n_neighbors=13, p=2, weights=distance, total=   0.0s\n[CV] n_neighbors=13, p=3, weights=distance ...........................\n",
      "[CV] ............ n_neighbors=13, p=3, weights=distance, total=   0.0s\n[CV] n_neighbors=13, p=3, weights=distance ...........................\n[CV] ............ n_neighbors=13, p=3, weights=distance, total=   0.0s\n[CV] n_neighbors=13, p=3, weights=distance ...........................\n[CV] ............ n_neighbors=13, p=3, weights=distance, total=   0.0s\n[CV] n_neighbors=13, p=4, weights=distance ...........................\n[CV] ............ n_neighbors=13, p=4, weights=distance, total=   0.0s\n[CV] n_neighbors=13, p=4, weights=distance ...........................\n[CV] ............ n_neighbors=13, p=4, weights=distance, total=   0.0s\n[CV] n_neighbors=13, p=4, weights=distance ...........................\n[CV] ............ n_neighbors=13, p=4, weights=distance, total=   0.0s\n[CV] n_neighbors=13, p=5, weights=distance ...........................\n[CV] ............ n_neighbors=13, p=5, weights=distance, total=   0.0s",
      "\n[CV] n_neighbors=13, p=5, weights=distance ...........................\n[CV] ............ n_neighbors=13, p=5, weights=distance, total=   0.1s\n[CV] n_neighbors=13, p=5, weights=distance ...........................\n[CV] ............ n_neighbors=13, p=5, weights=distance, total=   0.0s\n[CV] n_neighbors=14, p=1, weights=distance ...........................\n[CV] ............ n_neighbors=14, p=1, weights=distance, total=   0.0s\n[CV] n_neighbors=14, p=1, weights=distance ...........................\n[CV] ............ n_neighbors=14, p=1, weights=distance, total=   0.0s\n[CV] n_neighbors=14, p=1, weights=distance ...........................\n[CV] ............ n_neighbors=14, p=1, weights=distance, total=   0.0s\n[CV] n_neighbors=14, p=2, weights=distance ...........................\n[CV] ............ n_neighbors=14, p=2, weights=distance, total=   0.0s\n[CV] n_neighbors=14, p=2, weights=distance ...........................\n[CV] ............ n_neighbors=14, p=2, weights=distance, total=   0.0s\n[CV] n_neighbors=14, p=2, weights=distance ...........................\n[CV] ............ n_neighbors=14, p=2, weights=distance, total=   0.0s\n[CV] n_neighbors=14, p=3, weights=distance ...........................\n[CV] ............ n_neighbors=14, p=3, weights=distance, total=   0.0s\n[CV] n_neighbors=14, p=3, weights=distance ...........................\n",
      "[CV] ............ n_neighbors=14, p=3, weights=distance, total=   0.0s\n[CV] n_neighbors=14, p=3, weights=distance ...........................\n[CV] ............ n_neighbors=14, p=3, weights=distance, total=   0.0s\n[CV] n_neighbors=14, p=4, weights=distance ...........................\n[CV] ............ n_neighbors=14, p=4, weights=distance, total=   0.0s\n[CV] n_neighbors=14, p=4, weights=distance ...........................\n[CV] ............ n_neighbors=14, p=4, weights=distance, total=   0.0s\n[CV] n_neighbors=14, p=4, weights=distance ...........................\n[CV] ............ n_neighbors=14, p=4, weights=distance, total=   0.0s\n[CV] n_neighbors=14, p=5, weights=distance ...........................\n[CV] ............ n_neighbors=14, p=5, weights=distance, total=   0.0s\n[CV] n_neighbors=14, p=5, weights=distance ...........................\n[CV] ............ n_neighbors=14, p=5, weights=distance, total=   0.0s",
      "\n[CV] n_neighbors=14, p=5, weights=distance ...........................\n[CV] ............ n_neighbors=14, p=5, weights=distance, total=   0.0s\n[CV] n_neighbors=15, p=1, weights=distance ...........................\n[CV] ............ n_neighbors=15, p=1, weights=distance, total=   0.0s\n[CV] n_neighbors=15, p=1, weights=distance ...........................\n[CV] ............ n_neighbors=15, p=1, weights=distance, total=   0.0s\n[CV] n_neighbors=15, p=1, weights=distance ...........................\n[CV] ............ n_neighbors=15, p=1, weights=distance, total=   0.0s\n[CV] n_neighbors=15, p=2, weights=distance ...........................\n[CV] ............ n_neighbors=15, p=2, weights=distance, total=   0.0s\n[CV] n_neighbors=15, p=2, weights=distance ...........................\n[CV] ............ n_neighbors=15, p=2, weights=distance, total=   0.0s\n[CV] n_neighbors=15, p=2, weights=distance ...........................\n[CV] ............ n_neighbors=15, p=2, weights=distance, total=   0.0s\n[CV] n_neighbors=15, p=3, weights=distance ...........................\n[CV] ............ n_neighbors=15, p=3, weights=distance, total=   0.0s\n[CV] n_neighbors=15, p=3, weights=distance ...........................\n[CV] ............ n_neighbors=15, p=3, weights=distance, total=   0.0s\n[CV] n_neighbors=15, p=3, weights=distance ...........................\n[CV] ............ n_neighbors=15, p=3, weights=distance, total=   0.0s\n[CV] n_neighbors=15, p=4, weights=distance ...........................\n",
      "[CV] ............ n_neighbors=15, p=4, weights=distance, total=   0.0s\n[CV] n_neighbors=15, p=4, weights=distance ...........................\n[CV] ............ n_neighbors=15, p=4, weights=distance, total=   0.0s\n[CV] n_neighbors=15, p=4, weights=distance ...........................\n[CV] ............ n_neighbors=15, p=4, weights=distance, total=   0.0s\n[CV] n_neighbors=15, p=5, weights=distance ...........................\n[CV] ............ n_neighbors=15, p=5, weights=distance, total=   0.0s\n[CV] n_neighbors=15, p=5, weights=distance ...........................\n[CV] ............ n_neighbors=15, p=5, weights=distance, total=   0.0s\n[CV] n_neighbors=15, p=5, weights=distance ...........................\n[CV] ............ n_neighbors=15, p=5, weights=distance, total=   0.0s",
      "\nKNeighborsClassifier(algorithm='auto', leaf_size=30, metric='minkowski',\n                     metric_params=None, n_jobs=None, n_neighbors=14, p=2,\n                     weights='uniform')\n0.6336363636363637\n"
     ],
     "output_type": "stream"
    },
    {
     "name": "stderr",
     "text": [
      "C:\\Users\\Zhou\\Anaconda3\\lib\\site-packages\\sklearn\\model_selection\\_split.py:1978: FutureWarning: The default value of cv will change from 3 to 5 in version 0.22. Specify it explicitly to silence this warning.\n  warnings.warn(CV_WARNING, FutureWarning)\n[Parallel(n_jobs=1)]: Using backend SequentialBackend with 1 concurrent workers.\n[Parallel(n_jobs=1)]: Done   1 out of   1 | elapsed:    0.0s remaining:    0.0s\n",
      "[Parallel(n_jobs=1)]: Done 270 out of 270 | elapsed:    6.5s finished\n"
     ],
     "output_type": "stream"
    }
   ],
   "source": [
    "x_train = trn_df.drop('Survived', axis = 1)\n",
    "y_train = trn_df['Survived']\n",
    "x_test = test_df.drop('Survived', axis = 1)\n",
    "y_test = test_df['Survived']\n",
    "\n",
    "knn_model = KNeighborsClassifier()\n",
    "\n",
    "param = [\n",
    "    {\n",
    "        'weights':['uniform'],\n",
    "        'n_neighbors':[i for i in range(1, 16)]\n",
    "    },\n",
    "    {\n",
    "        'weights':['distance'],\n",
    "        'n_neighbors':[i for i in range(1, 16)],\n",
    "        'p':[i for i in range(1, 6)]\n",
    "    },\n",
    "    {\n",
    "        \n",
    "    }\n",
    "'''{\n",
    "        'weights':['uniform'],\n",
    "        'n_neighbors':[i for i in range(1, 16)],\n",
    "        'algorithm':['auto'],\n",
    "        'leaf_size':[i for i in range(15, 46)]\n",
    "    },\n",
    "    {\n",
    "        'weights':['distance'],\n",
    "        'n_neighbors':[i for i in range(1, 16)],\n",
    "        'p':[i for i in range(1, 6)]\n",
    "        'algorithm':['auto'],\n",
    "        'leaf_size':[i for i in range(15, 46)]\n",
    "    }\n",
    "]'''\n",
    "grid_search = GridSearchCV(knn_model, param, n_jobs=1, verbose=2)\n",
    "\n",
    "%time\n",
    "grid_search.fit(x_train, y_train)\n",
    "print(grid_search.best_estimator_)\n",
    "print(grid_search.best_score_)\n"
   ],
   "metadata": {
    "collapsed": false,
    "pycharm": {
     "name": "#%%\n",
     "is_executing": false
    }
   }
  },
  {
   "cell_type": "code",
   "execution_count": 15,
   "outputs": [
    {
     "name": "stdout",
     "text": [
      "0.6854545454545454\n0.5645933014354066\n"
     ],
     "output_type": "stream"
    }
   ],
   "source": [
    "knn_model_fit = grid_search.best_estimator_\n",
    "y_pred = knn_model_fit.predict(x_train)\n",
    "print(accuracy_score(y_train, y_pred))\n",
    "y_pred_test = knn_model_fit.predict(x_test)\n",
    "print(accuracy_score(y_test, y_pred_test))\n"
   ],
   "metadata": {
    "collapsed": false,
    "pycharm": {
     "name": "#%%\n",
     "is_executing": false
    }
   }
  },
  {
   "cell_type": "code",
   "execution_count": 16,
   "outputs": [
    {
     "name": "stdout",
     "text": [
      "                0   1\nNot survived  118  91\nSurvived        0   0\n"
     ],
     "output_type": "stream"
    },
    {
     "data": {
      "text/plain": "Text(51.0, 0.5, 'predicted')"
     },
     "metadata": {},
     "output_type": "execute_result",
     "execution_count": 16
    },
    {
     "data": {
      "text/plain": "<Figure size 576x432 with 2 Axes>",
      "image/png": "[encoded data removed]"
     },
     "metadata": {
      "needs_background": "light"
     },
     "output_type": "display_data"
    }
   ],
   "source": [
    "c_mat = confusion_matrix(y_test, y_pred_test)\n",
    "c_mat_df = pd.DataFrame(c_mat)\n",
    "c_mat_df.columns = ['Not survived', 'Survived']\n",
    "c_mat_df = c_mat_df.T\n",
    "print(c_mat_df)\n",
    "\n",
    "plt.figure(figsize=(8, 6))\n",
    "sns.heatmap(c_mat_df, annot=True, fmt='g')\n",
    "plt.xlabel('Actual')\n",
    "plt.ylabel('predicted')\n"
   ],
   "metadata": {
    "collapsed": false,
    "pycharm": {
     "name": "#%%\n",
     "is_executing": false
    }
   }
  },
  {
   "cell_type": "code",
   "execution_count": 17,
   "outputs": [
    {
     "name": "stdout",
     "text": [
      "              precision    recall  f1-score   support\n\n           0       0.56      1.00      0.72       118\n           1       0.00      0.00      0.00        91\n\n    accuracy                           0.56       209\n   macro avg       0.28      0.50      0.36       209\nweighted avg       0.32      0.56      0.41       209\n\n"
     ],
     "output_type": "stream"
    },
    {
     "name": "stderr",
     "text": [
      "C:\\Users\\Zhou\\Anaconda3\\lib\\site-packages\\sklearn\\metrics\\classification.py:1437: UndefinedMetricWarning: Precision and F-score are ill-defined and being set to 0.0 in labels with no predicted samples.\n  'precision', 'predicted', average, warn_for)\n"
     ],
     "output_type": "stream"
    }
   ],
   "source": [
    "scores = classification_report(y_test,y_pred_test)\n",
    "print(scores)"
   ],
   "metadata": {
    "collapsed": false,
    "pycharm": {
     "name": "#%%\n",
     "is_executing": false
    }
   }
  }
 ],
 "metadata": {
  "language_info": {
   "codemirror_mode": {
    "name": "ipython",
    "version": 2
   },
   "file_extension": ".py",
   "mimetype": "text/x-python",
   "name": "python",
   "nbconvert_exporter": "python",
   "pygments_lexer": "ipython2",
   "version": "2.7.6"
  },
  "kernelspec": {
   "name": "python3",
   "language": "python",
   "display_name": "Python 3"
  },
  "pycharm": {
   "stem_cell": {
    "cell_type": "raw",
    "source": [],
    "metadata": {
     "collapsed": false
    }
   }
  }
 },
 "nbformat": 4,
 "nbformat_minor": 0
}