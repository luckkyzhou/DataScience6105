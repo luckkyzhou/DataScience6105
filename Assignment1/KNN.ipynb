{
 "cells": [
  {
   "cell_type": "code",
   "execution_count": 1,
   "metadata": {
    "collapsed": true,
    "pycharm": {
     "is_executing": false
    }
   },
   "outputs": [],
   "source": [
    "import pandas as pd\n",
    "from sklearn.neighbors import KNeighborsClassifier,KNeighborsRegressor\n",
    "from sklearn.metrics import confusion_matrix,accuracy_score\n",
    "from sklearn.metrics import classification_report,roc_curve,roc_auc_score\n",
    "from matplotlib import pyplot as plt\n",
    "import seaborn as sns\n",
    "%matplotlib inline\n"
   ]
  },
  {
   "cell_type": "code",
   "execution_count": 3,
   "outputs": [
    {
     "name": "stdout",
     "text": [
      "(1100, 13)\n(209, 13)\n"
     ],
     "output_type": "stream"
    }
   ],
   "source": [
    "%pwd\n",
    "path = 'D:\\\\Python\\\\DataScience\\\\DataScience6105\\\\Module5'\n",
    "trn_df = pd.read_csv(f'{path}/titanic_trn_4_ml.csv')\n",
    "test_df = pd.read_csv(f'{path}/titanic_test_4_ml.csv')\n",
    "print(trn_df.shape)\n",
    "print(test_df.shape)\n"
   ],
   "metadata": {
    "collapsed": false,
    "pycharm": {
     "name": "#%%\n",
     "is_executing": false
    }
   }
  },
  {
   "cell_type": "code",
   "execution_count": null,
   "outputs": [],
   "source": [
    "x_train = trn_df.drop('Survived', axis = 1)\n",
    "y_train = trn_df['Survived']\n",
    "x_test = test_df.drop('Survived', axis = 1)\n",
    "y_test = test_df['Survived']\n",
    "\n",
    "knn_model = KNeighborsClassifier()"
   ],
   "metadata": {
    "collapsed": false,
    "pycharm": {
     "name": "#%%\n"
    }
   }
  }
 ],
 "metadata": {
  "language_info": {
   "codemirror_mode": {
    "name": "ipython",
    "version": 2
   },
   "file_extension": ".py",
   "mimetype": "text/x-python",
   "name": "python",
   "nbconvert_exporter": "python",
   "pygments_lexer": "ipython2",
   "version": "2.7.6"
  },
  "kernelspec": {
   "name": "python3",
   "language": "python",
   "display_name": "Python 3"
  },
  "pycharm": {
   "stem_cell": {
    "cell_type": "raw",
    "source": [],
    "metadata": {
     "collapsed": false
    }
   }
  }
 },
 "nbformat": 4,
 "nbformat_minor": 0
}