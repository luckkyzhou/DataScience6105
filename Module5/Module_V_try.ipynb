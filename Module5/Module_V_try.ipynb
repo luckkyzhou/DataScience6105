{
 "cells": [
  {
   "cell_type": "code",
   "execution_count": 3,
   "metadata": {
    "collapsed": true,
    "pycharm": {
     "is_executing": false
    }
   },
   "outputs": [],
   "source": [
    "import pandas as pd\n",
    "from sklearn.neighbors import KNeighborsClassifier,KNeighborsRegressor\n",
    "from sklearn.metrics import confusion_matrix,accuracy_score\n",
    "from sklearn.metrics import classification_report,roc_curve,roc_auc_score\n",
    "from matplotlib import pyplot as plt\n",
    "import seaborn as sns\n",
    "\n",
    "%matplotlib inline\n"
   ]
  },
  {
   "cell_type": "code",
   "execution_count": 5,
   "outputs": [
    {
     "name": "stdout",
     "text": [
      "(1100, 13)\n(209, 13)\n"
     ],
     "output_type": "stream"
    }
   ],
   "source": [
    "%pwd\n",
    "path5 = 'D:\\\\Python\\\\DataScience\\\\DataScience6105\\\\Module5'\n",
    "path3 = 'D:\\\\Python\\\\DataScience\\\\DataScience6105\\\\Module3'\n",
    "trn_df = pd.read_csv(f'{path5}/titanic_trn_4_ml.csv')\n",
    "test_df = pd.read_csv(f'{path5}/titanic_test_4_ml.csv')\n",
    "print(trn_df.shape)\n",
    "print(test_df.shape)\n"
   ],
   "metadata": {
    "collapsed": false,
    "pycharm": {
     "name": "#%%\n",
     "is_executing": false
    }
   }
  },
  {
   "cell_type": "code",
   "execution_count": 6,
   "outputs": [
    {
     "name": "stdout",
     "text": [
      "1.0\n0.5406698564593302\n"
     ],
     "output_type": "stream"
    }
   ],
   "source": [
    "x_train = trn_df.drop('Survived', axis = 1)\n",
    "y_train = trn_df['Survived']\n",
    "x_test = test_df.drop('Survived', axis = 1)\n",
    "y_test = test_df['Survived']\n",
    "\n",
    "knn_model = KNeighborsClassifier(n_neighbors = 1)\n",
    "knn_model.fit(x_train, y_train)\n",
    "y_pred = knn_model.predict(x_train)\n",
    "print(accuracy_score(y_train, y_pred))\n",
    "y_pred_test = knn_model.predict(x_test)\n",
    "print(accuracy_score(y_test, y_pred_test))\n"
   ],
   "metadata": {
    "collapsed": false,
    "pycharm": {
     "name": "#%%\n",
     "is_executing": false
    }
   }
  },
  {
   "cell_type": "code",
   "execution_count": 7,
   "outputs": [
    {
     "name": "stdout",
     "text": [
      "0.7381818181818182\n0.5454545454545454\n"
     ],
     "output_type": "stream"
    }
   ],
   "source": [
    "knn_model_I = KNeighborsClassifier(n_neighbors = 5)\n",
    "knn_model_I.fit(x_train, y_train)\n",
    "y_pred_I = knn_model_I.predict(x_train)\n",
    "print(accuracy_score(y_train, y_pred_I))\n",
    "y_pred_test_I = knn_model_I.predict(x_test)\n",
    "print(accuracy_score(y_test, y_pred_test_I))\n"
   ],
   "metadata": {
    "collapsed": false,
    "pycharm": {
     "name": "#%%\n",
     "is_executing": false
    }
   }
  },
  {
   "cell_type": "code",
   "execution_count": 8,
   "outputs": [
    {
     "name": "stdout",
     "text": [
      "0.8072727272727273\n0.5550239234449761\n"
     ],
     "output_type": "stream"
    }
   ],
   "source": [
    "knn_model_II = KNeighborsClassifier(n_neighbors = 3)\n",
    "knn_model_II.fit(x_train, y_train)\n",
    "y_pred_II = knn_model_II.predict(x_train)\n",
    "print(accuracy_score(y_train, y_pred_II))\n",
    "y_pred_test_II = knn_model_II.predict(x_test)\n",
    "print(accuracy_score(y_test, y_pred_test_II))\n"
   ],
   "metadata": {
    "collapsed": false,
    "pycharm": {
     "name": "#%%\n",
     "is_executing": false
    }
   }
  },
  {
   "cell_type": "code",
   "execution_count": 9,
   "outputs": [
    {
     "name": "stdout",
     "text": [
      "                0   1\nNot survived  113  88\nSurvived        5   3\n"
     ],
     "output_type": "stream"
    },
    {
     "data": {
      "text/plain": "Text(51.0, 0.5, 'predicted')"
     },
     "metadata": {},
     "output_type": "execute_result",
     "execution_count": 9
    },
    {
     "data": {
      "text/plain": "<Figure size 576x432 with 2 Axes>",
      "image/png": "[encoded data removed]"
     },
     "metadata": {
      "needs_background": "light"
     },
     "output_type": "display_data"
    }
   ],
   "source": [
    "c_mat = confusion_matrix(y_test, y_pred_test_II)\n",
    "c_mat_df = pd.DataFrame(c_mat)\n",
    "c_mat_df.columns = ['Not survived', 'Survived']\n",
    "c_mat_df = c_mat_df.T\n",
    "print(c_mat_df)\n",
    "\n",
    "plt.figure(figsize=(8, 6))\n",
    "sns.heatmap(c_mat_df, annot=True, fmt='g')\n",
    "plt.xlabel('Actual')\n",
    "plt.ylabel('predicted')\n"
   ],
   "metadata": {
    "collapsed": false,
    "pycharm": {
     "name": "#%%\n",
     "is_executing": false
    }
   }
  },
  {
   "cell_type": "code",
   "execution_count": 12,
   "outputs": [
    {
     "name": "stdout",
     "text": [
      "0.9576271186440678\n0.5621890547263682\n0.7084639498432602\n              precision    recall  f1-score   support\n\n           0       0.56      0.96      0.71       118\n           1       0.38      0.03      0.06        91\n\n    accuracy                           0.56       209\n   macro avg       0.47      0.50      0.38       209\nweighted avg       0.48      0.56      0.43       209\n\n"
     ],
     "output_type": "stream"
    }
   ],
   "source": [
    "# true positives\n",
    "tp = 113\n",
    "#true negatives\n",
    "tn = 3\n",
    "#false positives\n",
    "fp = 88\n",
    "#false negatives\n",
    "fn = 5\n",
    "\n",
    "recall = 113 / (113 + 5)\n",
    "precision = 113 / (113 + 88)\n",
    "f_score = (2 * recall * precision) / (recall + precision)\n",
    "print(recall)\n",
    "print(precision)\n",
    "print(f_score)\n",
    "scores = classification_report(y_test,y_pred_test_II)\n",
    "print(scores)\n"
   ],
   "metadata": {
    "collapsed": false,
    "pycharm": {
     "name": "#%%\n",
     "is_executing": false
    }
   }
  },
  {
   "cell_type": "code",
   "execution_count": 13,
   "outputs": [
    {
     "data": {
      "text/plain": "<Figure size 432x288 with 1 Axes>",
      "image/png": "[encoded data removed]"
     },
     "metadata": {
      "needs_background": "light"
     },
     "output_type": "display_data"
    },
    {
     "name": "stdout",
     "text": [
      "0.49529707580555044\n"
     ],
     "output_type": "stream"
    }
   ],
   "source": [
    "rec, fall_out, thresholds = roc_curve(y_test,y_pred_test_II)\n",
    "plt.plot([0,1],[0,1],'k--')\n",
    "plt.plot(rec,fall_out, label='KNN')\n",
    "plt.xlabel('Fall out')\n",
    "plt.ylabel('Recall/Sensitivity')\n",
    "plt.title('Knn(n_neighbors=3) ROC curve')\n",
    "plt.show()\n",
    "print(roc_auc_score(y_test,y_pred_test_II))"
   ],
   "metadata": {
    "collapsed": false,
    "pycharm": {
     "name": "#%%\n",
     "is_executing": false
    }
   }
  }
 ],
 "metadata": {
  "language_info": {
   "codemirror_mode": {
    "name": "ipython",
    "version": 2
   },
   "file_extension": ".py",
   "mimetype": "text/x-python",
   "name": "python",
   "nbconvert_exporter": "python",
   "pygments_lexer": "ipython2",
   "version": "2.7.6"
  },
  "kernelspec": {
   "name": "python3",
   "language": "python",
   "display_name": "Python 3"
  },
  "pycharm": {
   "stem_cell": {
    "cell_type": "raw",
    "source": [],
    "metadata": {
     "collapsed": false
    }
   }
  }
 },
 "nbformat": 4,
 "nbformat_minor": 0
}