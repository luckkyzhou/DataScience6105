{
 "cells": [
  {
   "cell_type": "code",
   "execution_count": 35,
   "outputs": [],
   "source": [
    "import pandas as pd\n",
    "from pandas.api.types import is_string_dtype, is_numeric_dtype\n",
    "from sklearn import preprocessing\n",
    "from sklearn.neighbors import KNeighborsClassifier\n",
    "from sklearn.metrics import  confusion_matrix, accuracy_score, matthews_corrcoef, f1_score\n",
    "from sklearn.externals import joblib\n",
    "from matplotlib import pyplot as plt\n",
    "import seaborn as sns\n",
    "import joblib\n",
    "\n",
    "%matplotlib inline\n"
   ],
   "metadata": {
    "collapsed": false,
    "pycharm": {
     "name": "#%%\n",
     "is_executing": false
    }
   }
  },
  {
   "cell_type": "code",
   "execution_count": 36,
   "outputs": [
    {
     "data": {
      "text/plain": "'D:\\\\Python\\\\DataScience\\\\DataScience6105\\\\Module3'"
     },
     "metadata": {},
     "output_type": "execute_result",
     "execution_count": 36
    }
   ],
   "source": [
    "%pwd\n"
   ],
   "metadata": {
    "collapsed": false,
    "pycharm": {
     "name": "#%%\n",
     "is_executing": false
    }
   }
  },
  {
   "cell_type": "code",
   "execution_count": 37,
   "outputs": [
    {
     "name": "stdout",
     "text": [
      "D:\\Python\\DataScience\\DataScience6105\\Module3\n"
     ],
     "output_type": "stream"
    }
   ],
   "source": [
    "my_path = 'D:\\\\Python\\\\DataScience\\\\DataScience6105\\\\Module3'\n",
    "print(my_path)\n"
   ],
   "metadata": {
    "collapsed": false,
    "pycharm": {
     "name": "#%%\n",
     "is_executing": false
    }
   }
  },
  {
   "cell_type": "code",
   "execution_count": 38,
   "outputs": [
    {
     "data": {
      "text/plain": "(1309, 12)"
     },
     "metadata": {},
     "output_type": "execute_result",
     "execution_count": 38
    }
   ],
   "source": [
    "#my_df is a dataframe\n",
    "my_df = pd.read_csv(f'{my_path}/Titanic_full.csv')\n",
    "my_df.shape\n",
    "#my_df.head(3)\n"
   ],
   "metadata": {
    "collapsed": false,
    "pycharm": {
     "name": "#%%\n",
     "is_executing": false
    }
   }
  },
  {
   "cell_type": "code",
   "execution_count": 39,
   "outputs": [
    {
     "name": "stdout",
     "text": [
      "(1100, 12)\n(209, 12)\n"
     ],
     "output_type": "stream"
    }
   ],
   "source": [
    "def mydf_splitter(my_df, num_rows):\n",
    "    return my_df[:num_rows].copy(), my_df[num_rows:]\n",
    "mydf_train_valid, mydf_test = mydf_splitter(my_df, 1100)\n",
    "print(mydf_train_valid.shape)\n",
    "print(mydf_test.shape)\n"
   ],
   "metadata": {
    "collapsed": false,
    "pycharm": {
     "name": "#%%\n",
     "is_executing": false
    }
   }
  },
  {
   "cell_type": "code",
   "execution_count": 40,
   "outputs": [
    {
     "data": {
      "text/plain": "<matplotlib.axes._subplots.AxesSubplot at 0x19666977208>"
     },
     "metadata": {},
     "output_type": "execute_result",
     "execution_count": 40
    },
    {
     "data": {
      "text/plain": "<Figure size 576x432 with 1 Axes>",
      "image/png": "[encoded data removed]"
     },
     "metadata": {
      "needs_background": "light"
     },
     "output_type": "display_data"
    }
   ],
   "source": [
    "null_vals = mydf_train_valid.isnull().sum() / len(mydf_train_valid) * 100\n",
    "null_vals = pd.DataFrame(null_vals)\n",
    "null_vals.reset_index(inplace = True)\n",
    "null_vals.columns = [\"Feature\",\"Percent missing\"]\n",
    "plt.figure(figsize = (8,6))\n",
    "plt.xticks(rotation = 45)\n",
    "sns.barplot(x = \"Feature\",y =\"Percent missing\",data = null_vals)\n"
   ],
   "metadata": {
    "collapsed": false,
    "pycharm": {
     "name": "#%%\n",
     "is_executing": false
    }
   }
  },
  {
   "cell_type": "code",
   "execution_count": 41,
   "outputs": [
    {
     "name": "stdout",
     "text": [
      "(1100, 11)\n"
     ],
     "output_type": "stream"
    },
    {
     "data": {
      "text/plain": "   PassengerId  Survived  Pclass  \\\n0            1         0       3   \n1            2         1       1   \n\n                                                Name     Sex   Age  SibSp  \\\n0                            Braund, Mr. Owen Harris    male  22.0      1   \n1  Cumings, Mrs. John Bradley (Florence Briggs Th...  female  38.0      1   \n\n   Parch     Ticket     Fare Embarked  \n0      0  A/5 21171   7.2500        S  \n1      0   PC 17599  71.2833        C  ",
      "text/html": "<div>\n<style scoped>\n    .dataframe tbody tr th:only-of-type {\n        vertical-align: middle;\n    }\n\n    .dataframe tbody tr th {\n        vertical-align: top;\n    }\n\n    .dataframe thead th {\n        text-align: right;\n    }\n</style>\n<table border=\"1\" class=\"dataframe\">\n  <thead>\n    <tr style=\"text-align: right;\">\n      <th></th>\n      <th>PassengerId</th>\n      <th>Survived</th>\n      <th>Pclass</th>\n      <th>Name</th>\n      <th>Sex</th>\n      <th>Age</th>\n      <th>SibSp</th>\n      <th>Parch</th>\n      <th>Ticket</th>\n      <th>Fare</th>\n      <th>Embarked</th>\n    </tr>\n  </thead>\n  <tbody>\n    <tr>\n      <th>0</th>\n      <td>1</td>\n      <td>0</td>\n      <td>3</td>\n      <td>Braund, Mr. Owen Harris</td>\n      <td>male</td>\n      <td>22.0</td>\n      <td>1</td>\n      <td>0</td>\n      <td>A/5 21171</td>\n      <td>7.2500</td>\n      <td>S</td>\n    </tr>\n    <tr>\n      <th>1</th>\n      <td>2</td>\n      <td>1</td>\n      <td>1</td>\n      <td>Cumings, Mrs. John Bradley (Florence Briggs Th...</td>\n      <td>female</td>\n      <td>38.0</td>\n      <td>1</td>\n      <td>0</td>\n      <td>PC 17599</td>\n      <td>71.2833</td>\n      <td>C</td>\n    </tr>\n  </tbody>\n</table>\n</div>"
     },
     "metadata": {},
     "output_type": "execute_result",
     "execution_count": 41
    }
   ],
   "source": [
    "mydf_train_valid_2 = mydf_train_valid.drop('Cabin', axis = 1)\n",
    "print(mydf_train_valid_2.shape)\n",
    "#mydf_train_valid.info\n",
    "mydf_train_valid_2.head(2)\n"
   ],
   "metadata": {
    "collapsed": false,
    "pycharm": {
     "name": "#%%\n",
     "is_executing": false
    }
   }
  },
  {
   "cell_type": "code",
   "execution_count": 42,
   "outputs": [
    {
     "name": "stdout",
     "text": [
      "<class 'pandas.core.frame.DataFrame'>\nRangeIndex: 1100 entries, 0 to 1099\nData columns (total 11 columns):\nPassengerId    1100 non-null int64\nSurvived       1100 non-null int64\nPclass         1100 non-null int64\nName           1100 non-null object\nSex            1100 non-null object\nAge            881 non-null float64\nSibSp          1100 non-null int64\nParch          1100 non-null int64\nTicket         1100 non-null object\nFare           1099 non-null float64\nEmbarked       1098 non-null object\ndtypes: float64(2), int64(5), object(4)\nmemory usage: 94.6+ KB\n"
     ],
     "output_type": "stream"
    }
   ],
   "source": [
    "mydf_train_valid_2.info()\n"
   ],
   "metadata": {
    "collapsed": false,
    "pycharm": {
     "name": "#%%\n",
     "is_executing": false
    }
   }
  },
  {
   "cell_type": "code",
   "execution_count": 43,
   "outputs": [
    {
     "name": "stdout",
     "text": [
      "<class 'pandas.core.frame.DataFrame'>\nRangeIndex: 1100 entries, 0 to 1099\nData columns (total 11 columns):\nPassengerId    1100 non-null int64\nSurvived       1100 non-null int64\nPclass         1100 non-null int64\nName           1100 non-null category\nSex            1100 non-null category\nAge            881 non-null float64\nSibSp          1100 non-null int64\nParch          1100 non-null int64\nTicket         1100 non-null category\nFare           1099 non-null float64\nEmbarked       1098 non-null category\ndtypes: category(4), float64(2), int64(5)\nmemory usage: 161.8 KB\n"
     ],
     "output_type": "stream"
    }
   ],
   "source": [
    "def str_to_cat(my_df):\n",
    "    for p, q in my_df.items():\n",
    "        if is_string_dtype(q):\n",
    "            my_df[p] = q.astype('category').cat.as_ordered()\n",
    "    return my_df\n",
    "\n",
    "mydf_train_valid_3 = str_to_cat(mydf_train_valid_2)\n",
    "mydf_train_valid_3.info()\n"
   ],
   "metadata": {
    "collapsed": false,
    "pycharm": {
     "name": "#%%\n",
     "is_executing": false
    }
   }
  },
  {
   "cell_type": "code",
   "execution_count": 44,
   "outputs": [
    {
     "name": "stdout",
     "text": [
      "Index(['C', 'Q', 'S'], dtype='object')\nIndex(['female', 'male'], dtype='object')\n"
     ],
     "output_type": "stream"
    }
   ],
   "source": [
    "print(mydf_train_valid_3.Embarked.cat.categories)\n",
    "print(mydf_train_valid_3.Sex.cat.categories)\n",
    "\n"
   ],
   "metadata": {
    "collapsed": false,
    "pycharm": {
     "name": "#%%\n",
     "is_executing": false
    }
   }
  },
  {
   "cell_type": "code",
   "execution_count": 45,
   "outputs": [
    {
     "data": {
      "text/plain": "   PassengerId  Survived  Pclass  Name  Sex   Age  SibSp  Parch  Ticket  \\\n0            1         0       3   135    2  22.0      1      0     629   \n1            2         1       1   245    1  38.0      1      0     713   \n2            3         1       3   442    1  26.0      0      0     799   \n\n      Fare  Embarked  Age_na  Fare_na  \n0   7.2500         3   False    False  \n1  71.2833         1   False    False  \n2   7.9250         3   False    False  ",
      "text/html": "<div>\n<style scoped>\n    .dataframe tbody tr th:only-of-type {\n        vertical-align: middle;\n    }\n\n    .dataframe tbody tr th {\n        vertical-align: top;\n    }\n\n    .dataframe thead th {\n        text-align: right;\n    }\n</style>\n<table border=\"1\" class=\"dataframe\">\n  <thead>\n    <tr style=\"text-align: right;\">\n      <th></th>\n      <th>PassengerId</th>\n      <th>Survived</th>\n      <th>Pclass</th>\n      <th>Name</th>\n      <th>Sex</th>\n      <th>Age</th>\n      <th>SibSp</th>\n      <th>Parch</th>\n      <th>Ticket</th>\n      <th>Fare</th>\n      <th>Embarked</th>\n      <th>Age_na</th>\n      <th>Fare_na</th>\n    </tr>\n  </thead>\n  <tbody>\n    <tr>\n      <th>0</th>\n      <td>1</td>\n      <td>0</td>\n      <td>3</td>\n      <td>135</td>\n      <td>2</td>\n      <td>22.0</td>\n      <td>1</td>\n      <td>0</td>\n      <td>629</td>\n      <td>7.2500</td>\n      <td>3</td>\n      <td>False</td>\n      <td>False</td>\n    </tr>\n    <tr>\n      <th>1</th>\n      <td>2</td>\n      <td>1</td>\n      <td>1</td>\n      <td>245</td>\n      <td>1</td>\n      <td>38.0</td>\n      <td>1</td>\n      <td>0</td>\n      <td>713</td>\n      <td>71.2833</td>\n      <td>1</td>\n      <td>False</td>\n      <td>False</td>\n    </tr>\n    <tr>\n      <th>2</th>\n      <td>3</td>\n      <td>1</td>\n      <td>3</td>\n      <td>442</td>\n      <td>1</td>\n      <td>26.0</td>\n      <td>0</td>\n      <td>0</td>\n      <td>799</td>\n      <td>7.9250</td>\n      <td>3</td>\n      <td>False</td>\n      <td>False</td>\n    </tr>\n  </tbody>\n</table>\n</div>"
     },
     "metadata": {},
     "output_type": "execute_result",
     "execution_count": 45
    }
   ],
   "source": [
    "def mydf_to_nums(my_df, feature, null_status):\n",
    "    if not is_numeric_dtype(feature):\n",
    "        my_df[null_status] = feature.cat.codes + 1\n",
    "        \n",
    "def mydf_imputer(my_df, feature, null_status, null_table):\n",
    "    if is_numeric_dtype(feature):\n",
    "        if pd.isnull(feature).sum() or (null_status in null_table):\n",
    "            my_df[null_status+'_na'] = pd.isnull(feature)\n",
    "            filler = null_table[null_status] if null_status in null_table else feature.median()\n",
    "            my_df[null_status] = feature.fillna(filler)\n",
    "            null_table[null_status] = filler\n",
    "    return null_table   \n",
    "\n",
    "def mydf_preprocessor(my_df, null_table):\n",
    "    \n",
    "    if null_table is None: \n",
    "        null_table = dict()\n",
    "    for p,q in my_df.items(): \n",
    "        null_table = mydf_imputer(my_df, q, p, null_table)\n",
    "    for p,q in my_df.items(): \n",
    "        mydf_to_nums(my_df, q, p)\n",
    "    my_df = pd.get_dummies(my_df, dummy_na = True)\n",
    "    res = [my_df, null_table]\n",
    "    return res\n",
    "mydf_train_valid_4,my_table = mydf_preprocessor(mydf_train_valid_3,null_table = None)\n",
    "mydf_train_valid_4.head(3)\n"
   ],
   "metadata": {
    "collapsed": false,
    "pycharm": {
     "name": "#%%\n",
     "is_executing": false
    }
   }
  },
  {
   "cell_type": "code",
   "execution_count": 47,
   "outputs": [
    {
     "name": "stdout",
     "text": [
      "{'Age': 28.0, 'Fare': 14.4583}\n(1100, 13)\n"
     ],
     "output_type": "stream"
    }
   ],
   "source": [
    "print(my_table)\n",
    "print(mydf_train_valid_4.shape)\n"
   ],
   "metadata": {
    "collapsed": false,
    "pycharm": {
     "name": "#%%\n",
     "is_executing": false
    }
   }
  },
  {
   "cell_type": "code",
   "execution_count": 49,
   "outputs": [
    {
     "name": "stdout",
     "text": [
      "(1100, 12) (1100,)\n<class 'pandas.core.frame.DataFrame'>\nRangeIndex: 1100 entries, 0 to 1099\nData columns (total 12 columns):\nPassengerId    1100 non-null int64\nPclass         1100 non-null int64\nName           1100 non-null int16\nSex            1100 non-null int8\nAge            1100 non-null float64\nSibSp          1100 non-null int64\nParch          1100 non-null int64\nTicket         1100 non-null int16\nFare           1100 non-null float64\nEmbarked       1100 non-null int8\nAge_na         1100 non-null bool\nFare_na        1100 non-null bool\ndtypes: bool(2), float64(2), int16(2), int64(4), int8(2)\nmemory usage: 60.2 KB\nNone\n"
     ],
     "output_type": "stream"
    }
   ],
   "source": [
    "Y = mydf_train_valid_4['Survived']\n",
    "X = mydf_train_valid_4.drop(['Survived'], axis = 1)\n",
    "print(X.shape, Y.shape)\n",
    "print(X.info())\n"
   ],
   "metadata": {
    "collapsed": false,
    "pycharm": {
     "name": "#%%\n",
     "is_executing": false
    }
   }
  },
  {
   "cell_type": "code",
   "execution_count": 50,
   "outputs": [
    {
     "name": "stdout",
     "text": [
      "(1100, 10) (1100, 2)\n"
     ],
     "output_type": "stream"
    }
   ],
   "source": [
    "X_con = X[['Age', 'Fare']]\n",
    "X_cat = X.drop(X_con, axis = 1)\n",
    "print(X_cat.shape, X_con.shape)\n"
   ],
   "metadata": {
    "collapsed": false,
    "pycharm": {
     "name": "#%%\n",
     "is_executing": false
    }
   }
  },
  {
   "cell_type": "code",
   "execution_count": 51,
   "outputs": [
    {
     "name": "stdout",
     "text": [
      "(1100, 2)\n"
     ],
     "output_type": "stream"
    },
    {
     "data": {
      "text/plain": "        Age      Fare\n0 -0.574896 -0.502155\n1  0.659705  0.747957",
      "text/html": "<div>\n<style scoped>\n    .dataframe tbody tr th:only-of-type {\n        vertical-align: middle;\n    }\n\n    .dataframe tbody tr th {\n        vertical-align: top;\n    }\n\n    .dataframe thead th {\n        text-align: right;\n    }\n</style>\n<table border=\"1\" class=\"dataframe\">\n  <thead>\n    <tr style=\"text-align: right;\">\n      <th></th>\n      <th>Age</th>\n      <th>Fare</th>\n    </tr>\n  </thead>\n  <tbody>\n    <tr>\n      <th>0</th>\n      <td>-0.574896</td>\n      <td>-0.502155</td>\n    </tr>\n    <tr>\n      <th>1</th>\n      <td>0.659705</td>\n      <td>0.747957</td>\n    </tr>\n  </tbody>\n</table>\n</div>"
     },
     "metadata": {},
     "output_type": "execute_result",
     "execution_count": 51
    }
   ],
   "source": [
    "scaler = preprocessing.StandardScaler().fit(X_con)\n",
    "X_con_sc = pd.DataFrame(scaler.transform(X_con))\n",
    "X_con_sc.columns = ['Age', 'Fare']\n",
    "print(X_con_sc.shape)\n",
    "X_con_sc.head(2)\n"
   ],
   "metadata": {
    "collapsed": false,
    "pycharm": {
     "name": "#%%\n",
     "is_executing": false
    }
   }
  },
  {
   "cell_type": "code",
   "execution_count": 52,
   "outputs": [
    {
     "data": {
      "text/plain": "   PassengerId  Pclass  Name  Sex  SibSp  Parch  Ticket  Embarked  Age_na  \\\n0            1       3   135    2      1      0     629         3   False   \n1            2       1   245    1      1      0     713         1   False   \n\n   Fare_na       Age      Fare  \n0    False -0.574896 -0.502155  \n1    False  0.659705  0.747957  ",
      "text/html": "<div>\n<style scoped>\n    .dataframe tbody tr th:only-of-type {\n        vertical-align: middle;\n    }\n\n    .dataframe tbody tr th {\n        vertical-align: top;\n    }\n\n    .dataframe thead th {\n        text-align: right;\n    }\n</style>\n<table border=\"1\" class=\"dataframe\">\n  <thead>\n    <tr style=\"text-align: right;\">\n      <th></th>\n      <th>PassengerId</th>\n      <th>Pclass</th>\n      <th>Name</th>\n      <th>Sex</th>\n      <th>SibSp</th>\n      <th>Parch</th>\n      <th>Ticket</th>\n      <th>Embarked</th>\n      <th>Age_na</th>\n      <th>Fare_na</th>\n      <th>Age</th>\n      <th>Fare</th>\n    </tr>\n  </thead>\n  <tbody>\n    <tr>\n      <th>0</th>\n      <td>1</td>\n      <td>3</td>\n      <td>135</td>\n      <td>2</td>\n      <td>1</td>\n      <td>0</td>\n      <td>629</td>\n      <td>3</td>\n      <td>False</td>\n      <td>False</td>\n      <td>-0.574896</td>\n      <td>-0.502155</td>\n    </tr>\n    <tr>\n      <th>1</th>\n      <td>2</td>\n      <td>1</td>\n      <td>245</td>\n      <td>1</td>\n      <td>1</td>\n      <td>0</td>\n      <td>713</td>\n      <td>1</td>\n      <td>False</td>\n      <td>False</td>\n      <td>0.659705</td>\n      <td>0.747957</td>\n    </tr>\n  </tbody>\n</table>\n</div>"
     },
     "metadata": {},
     "output_type": "execute_result",
     "execution_count": 52
    }
   ],
   "source": [
    "df_list = [X_cat, X_con_sc]\n",
    "X_full = pd.concat(df_list, axis = 1)\n",
    "X_full.head(2)\n"
   ],
   "metadata": {
    "collapsed": false,
    "pycharm": {
     "name": "#%%\n",
     "is_executing": false
    }
   }
  },
  {
   "cell_type": "code",
   "execution_count": 53,
   "outputs": [],
   "source": [
    "X_train, X_valid = mydf_splitter(X_full, 900)\n",
    "Y_train, Y_valid = mydf_splitter(Y, 900)\n"
   ],
   "metadata": {
    "collapsed": false,
    "pycharm": {
     "name": "#%%\n",
     "is_executing": false
    }
   }
  },
  {
   "cell_type": "code",
   "execution_count": 54,
   "outputs": [
    {
     "data": {
      "text/plain": "<matplotlib.axes._subplots.AxesSubplot at 0x196665c4978>"
     },
     "metadata": {},
     "output_type": "execute_result",
     "execution_count": 54
    },
    {
     "data": {
      "text/plain": "<Figure size 576x576 with 2 Axes>",
      "image/png": "[encoded data removed]"
     },
     "metadata": {
      "needs_background": "light"
     },
     "output_type": "display_data"
    }
   ],
   "source": [
    "my_knn_model = KNeighborsClassifier(n_neighbors=5, weights='uniform')\n",
    "my_knn_model.fit(X_train, Y_train)\n",
    "Y_pred = my_knn_model.predict(X_valid)\n",
    "\n",
    "my_knn_cmatrix = confusion_matrix(Y_valid, Y_pred)\n",
    "my_knn_df = pd.DataFrame(my_knn_cmatrix)\n",
    "plt.figure(figsize=(8,8))\n",
    "sns.heatmap(my_knn_df, xticklabels=['Unsurvived', 'Survived'], yticklabels=['Unsurvived', 'Survived'], annot=True)\n"
   ],
   "metadata": {
    "collapsed": false,
    "pycharm": {
     "name": "#%%\n",
     "is_executing": false
    }
   }
  },
  {
   "cell_type": "code",
   "execution_count": 55,
   "outputs": [
    {
     "name": "stdout",
     "text": [
      "0.54 -0.0474697036788388 0.29230769230769227\n"
     ],
     "output_type": "stream"
    }
   ],
   "source": [
    "print(accuracy_score(Y_valid, Y_pred), matthews_corrcoef(Y_valid, Y_pred), f1_score(Y_valid, Y_pred))\n"
   ],
   "metadata": {
    "collapsed": false,
    "pycharm": {
     "name": "#%%\n",
     "is_executing": false
    }
   }
  },
  {
   "cell_type": "code",
   "execution_count": 56,
   "outputs": [
    {
     "name": "stdout",
     "text": [
      "    Num of neighbors  Valid accuracy Score\n0                  1                 0.500\n1                  2                 0.580\n2                  3                 0.495\n3                  4                 0.565\n4                  5                 0.540\n5                  6                 0.560\n6                  7                 0.530\n7                  8                 0.570\n8                  9                 0.555\n9                 10                 0.595\n10                11                 0.575\n11                12                 0.575\n12                13                 0.565\n13                14                 0.600\n14                15                 0.580\n15                16                 0.590\n16                17                 0.560\n17                18                 0.580\n18                19                 0.570\n"
     ],
     "output_type": "stream"
    }
   ],
   "source": [
    "num_neighs = list()\n",
    "accuracy_list = list()\n",
    "\n",
    "for neighbor in range(1, 20):\n",
    "    my_knn_model = KNeighborsClassifier(n_neighbors=neighbor, weights='uniform')\n",
    "    my_knn_model.fit(X_train, Y_train)\n",
    "    Y_pred = my_knn_model.predict(X_valid)\n",
    "    accuracy = accuracy_score(Y_valid, Y_pred)\n",
    "    num_neighs.append(neighbor)\n",
    "    accuracy_list.append(accuracy)\n",
    "\n",
    "eval_df =  pd.DataFrame({\"Num of neighbors\": num_neighs,\"Valid accuracy Score\": accuracy_list})\n",
    "print(eval_df)\n"
   ],
   "metadata": {
    "collapsed": false,
    "pycharm": {
     "name": "#%%\n",
     "is_executing": false
    }
   }
  },
  {
   "cell_type": "code",
   "execution_count": 63,
   "outputs": [
    {
     "data": {
      "text/plain": "<seaborn.axisgrid.PairGrid at 0x19666bcae10>"
     },
     "metadata": {},
     "output_type": "execute_result",
     "execution_count": 63
    },
    {
     "data": {
      "text/plain": "<Figure size 288x288 with 1 Axes>",
      "image/png": "[encoded data removed]"
     },
     "metadata": {},
     "output_type": "display_data"
    }
   ],
   "source": [
    "sns.set_style('whitegrid')\n",
    "sns.pairplot(eval_df, x_vars='Num of neighbors', y_vars='Valid accuracy Score', plot_kws={'s': 60}, height = 4.0)\n"
   ],
   "metadata": {
    "collapsed": false,
    "pycharm": {
     "name": "#%%\n",
     "is_executing": false
    }
   }
  },
  {
   "cell_type": "code",
   "execution_count": 64,
   "outputs": [
    {
     "data": {
      "text/plain": "['D:\\\\Python\\\\DataScience\\\\DataScience6105\\\\Module3/knn_model/knn_model_final.sav']"
     },
     "metadata": {},
     "output_type": "execute_result",
     "execution_count": 64
    }
   ],
   "source": [
    "knn_model_fin = KNeighborsClassifier(n_neighbors=14, weights='uniform')\n",
    "knn_model_fin.fit(X_full, Y)\n",
    "\n",
    "!mkdir knn_model\n",
    "knn_model_name = f'{my_path}/knn_model/knn_model_final.sav'\n",
    "joblib.dump(knn_model_fin, knn_model_name)\n"
   ],
   "metadata": {
    "collapsed": false,
    "pycharm": {
     "name": "#%%\n",
     "is_executing": false
    }
   }
  },
  {
   "cell_type": "code",
   "execution_count": 66,
   "outputs": [],
   "source": [
    "knn_model_loaded = joblib.load(knn_model_name)\n"
   ],
   "metadata": {
    "collapsed": false,
    "pycharm": {
     "name": "#%%\n",
     "is_executing": false
    }
   }
  },
  {
   "cell_type": "code",
   "execution_count": null,
   "outputs": [],
   "source": [
    "mydf_test1 = mydf_test.drop('Cabin', axis=1)\n",
    "print(mydf_test1.shape)\n",
    "mydf_test2 = str_to_cat(mydf_test1)\n",
    "mydf_test3,my_table1 = mydf_preprocessor(mydf_test2,null_table = my_table)\n",
    "print(mydf_test3.shape)\n",
    "Y_t = mydf_test3[\"Survived\"]\n",
    "X_t = mydf_test3.drop([\"Survived\"],axis = 1)\n",
    "\n",
    "X_con_t = X_t[['Age', 'Fare']]\n",
    "X_cat_t = X_t.drop(X_con_t, axis = 1)\n",
    "\n",
    "X_con_sct = pd.DataFrame(scaler.transform(X_con_t))\n",
    "X_con_sct.columns = [\"Age\",\"Fare\"]\n",
    "\n"
   ],
   "metadata": {
    "collapsed": false,
    "pycharm": {
     "name": "#%%\n"
    }
   }
  }
 ],
 "metadata": {
  "language_info": {
   "codemirror_mode": {
    "name": "ipython",
    "version": 2
   },
   "file_extension": ".py",
   "mimetype": "text/x-python",
   "name": "python",
   "nbconvert_exporter": "python",
   "pygments_lexer": "ipython2",
   "version": "2.7.6"
  },
  "kernelspec": {
   "name": "python3",
   "language": "python",
   "display_name": "Python 3"
  },
  "pycharm": {
   "stem_cell": {
    "cell_type": "raw",
    "source": [],
    "metadata": {
     "collapsed": false
    }
   }
  }
 },
 "nbformat": 4,
 "nbformat_minor": 0
}